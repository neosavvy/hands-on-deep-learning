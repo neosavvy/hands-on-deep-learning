{
  "cells": [
    {
      "cell_type": "markdown",
      "metadata": {
        "id": "view-in-github",
        "colab_type": "text"
      },
      "source": [
        "<a href=\"https://colab.research.google.com/github/neosavvy/hands-on-deep-learning/blob/master/HODL_Lecture_2_Heart_Disease_Prediction.ipynb\" target=\"_parent\"><img src=\"https://colab.research.google.com/assets/colab-badge.svg\" alt=\"Open In Colab\"/></a>"
      ]
    },
    {
      "cell_type": "markdown",
      "metadata": {
        "id": "uZuGNXc58pgl"
      },
      "source": [
        "# Binary Classification on Tabular Data - Predicting Heart Disease\n",
        "\n",
        "\n",
        "\n"
      ]
    },
    {
      "cell_type": "markdown",
      "metadata": {
        "id": "PTigfjFI8pgn"
      },
      "source": [
        "## Introduction\n",
        "\n",
        "This colab shows to set up and train a Neural Network model for *binary classification*, when the dataset is *tabular* (rather than unstructured data like images or text) and has a mix of numeric and categorical features. Since tabular datasets are often made available in CSV files, the colab demonstrates the full CSV-to-trained-model workflow.\n",
        "\n",
        "\n",
        "\n",
        "\n",
        "### The dataset\n",
        "\n",
        "The dataset ([more background on the data](https://archive.ics.uci.edu/ml/datasets/heart+Disease)) has information on 303 patients, one in each row. Each column (i.e., feature) contains information on a particular attribute of the patient. The column named \"Target\" indicates if the patient has been diagnosed with heart disease or not and is the label (i.e., the dependent variable) that we want to predict using the other columns. \n",
        "\n",
        "Feature description (copied from [here](https://keras.io/examples/structured_data/structured_data_classification_from_scratch/)):\n",
        "\n",
        "Column| Description| Feature Type\n",
        "------------|--------------------|----------------------\n",
        "Age | Age in years | Numerical\n",
        "Sex | (1 = male; 0 = female) | Categorical\n",
        "CP | Chest pain type (0, 1, 2, 3, 4) | Categorical\n",
        "Trestbpd | Resting blood pressure (in mm Hg on admission) | Numerical\n",
        "Chol | Serum cholesterol in mg/dl | Numerical\n",
        "FBS | fasting blood sugar in 120 mg/dl (1 = true; 0 = false) | Categorical\n",
        "RestECG | Resting electrocardiogram results (0, 1, 2) | Categorical\n",
        "Thalach | Maximum heart rate achieved | Numerical\n",
        "Exang | Exercise induced angina (1 = yes; 0 = no) | Categorical\n",
        "Oldpeak | ST depression induced by exercise relative to rest | Numerical\n",
        "Slope | Slope of the peak exercise ST segment | Numerical\n",
        "CA | Number of major vessels (0-3) colored by fluoroscopy | Both numerical & categorical\n",
        "Thal | 3 = normal; 6 = fixed defect; 7 = reversible defect | Categorical\n",
        "Target | Diagnosis of heart disease (1 = true; 0 = false) | Target"
      ]
    },
    {
      "cell_type": "markdown",
      "metadata": {
        "id": "-7YELlPx8pgo"
      },
      "source": [
        "## Technical preliminaries\n",
        "\n",
        "Throughout the course, we will load the following packages as the first step and set the seed for different random number generators."
      ]
    },
    {
      "cell_type": "code",
      "execution_count": null,
      "metadata": {
        "id": "oqhnaoXC8pgp"
      },
      "outputs": [],
      "source": [
        "import tensorflow as tf\n",
        "from tensorflow import keras\n",
        "import numpy as np\n",
        "import pandas as pd\n",
        "import matplotlib.pyplot as plt\n",
        "\n",
        "# initialize the seeds of different random number generators so that the \n",
        "# results will be the same every time the notebook is run\n",
        "keras.utils.set_random_seed(42)"
      ]
    },
    {
      "cell_type": "markdown",
      "metadata": {
        "id": "tRS8tSL-8pgp"
      },
      "source": [
        "## Read in the data\n",
        "\n",
        "Conveniently, the dataset in CSV form has been made available online (by [Francois Chollet](https://twitter.com/fchollet)) and we can load it into a Pandas dataframe with the very useful `pd.read_csv` command."
      ]
    },
    {
      "cell_type": "code",
      "execution_count": null,
      "metadata": {
        "id": "UwIi1uXT8pgq"
      },
      "outputs": [],
      "source": [
        "df = pd.read_csv(\"http://storage.googleapis.com/download.tensorflow.org/data/heart.csv\")"
      ]
    },
    {
      "cell_type": "code",
      "execution_count": null,
      "metadata": {
        "id": "y0gs3ULo8pgr",
        "colab": {
          "base_uri": "https://localhost:8080/"
        },
        "outputId": "295f9078-86e9-448f-98f5-c4b2423789bb"
      },
      "outputs": [
        {
          "output_type": "execute_result",
          "data": {
            "text/plain": [
              "(303, 14)"
            ]
          },
          "metadata": {},
          "execution_count": 3
        }
      ],
      "source": [
        "df.shape"
      ]
    },
    {
      "cell_type": "markdown",
      "metadata": {
        "id": "mWQPAk_R8pgq"
      },
      "source": [
        "The dataset has 303 rows and 14 columns (13 independent variables + 1 dependent variable):"
      ]
    },
    {
      "cell_type": "markdown",
      "metadata": {
        "id": "RV1UP8MN8pgr"
      },
      "source": [
        "Let's take a look at the first few rows:"
      ]
    },
    {
      "cell_type": "code",
      "execution_count": null,
      "metadata": {
        "id": "-z8LPV1n8pgr",
        "colab": {
          "base_uri": "https://localhost:8080/",
          "height": 206
        },
        "outputId": "2147f6f5-7cf6-4171-e138-315a3419352d"
      },
      "outputs": [
        {
          "output_type": "execute_result",
          "data": {
            "text/plain": [
              "   age  sex  cp  trestbps  chol  fbs  restecg  thalach  exang  oldpeak  slope  \\\n",
              "0   63    1   1       145   233    1        2      150      0      2.3      3   \n",
              "1   67    1   4       160   286    0        2      108      1      1.5      2   \n",
              "2   67    1   4       120   229    0        2      129      1      2.6      2   \n",
              "3   37    1   3       130   250    0        0      187      0      3.5      3   \n",
              "4   41    0   2       130   204    0        2      172      0      1.4      1   \n",
              "\n",
              "   ca        thal  target  \n",
              "0   0       fixed       0  \n",
              "1   3      normal       1  \n",
              "2   2  reversible       0  \n",
              "3   0      normal       0  \n",
              "4   0      normal       0  "
            ],
            "text/html": [
              "\n",
              "  <div id=\"df-80fc3c10-650d-4ba9-9395-ad8a2f864a0f\">\n",
              "    <div class=\"colab-df-container\">\n",
              "      <div>\n",
              "<style scoped>\n",
              "    .dataframe tbody tr th:only-of-type {\n",
              "        vertical-align: middle;\n",
              "    }\n",
              "\n",
              "    .dataframe tbody tr th {\n",
              "        vertical-align: top;\n",
              "    }\n",
              "\n",
              "    .dataframe thead th {\n",
              "        text-align: right;\n",
              "    }\n",
              "</style>\n",
              "<table border=\"1\" class=\"dataframe\">\n",
              "  <thead>\n",
              "    <tr style=\"text-align: right;\">\n",
              "      <th></th>\n",
              "      <th>age</th>\n",
              "      <th>sex</th>\n",
              "      <th>cp</th>\n",
              "      <th>trestbps</th>\n",
              "      <th>chol</th>\n",
              "      <th>fbs</th>\n",
              "      <th>restecg</th>\n",
              "      <th>thalach</th>\n",
              "      <th>exang</th>\n",
              "      <th>oldpeak</th>\n",
              "      <th>slope</th>\n",
              "      <th>ca</th>\n",
              "      <th>thal</th>\n",
              "      <th>target</th>\n",
              "    </tr>\n",
              "  </thead>\n",
              "  <tbody>\n",
              "    <tr>\n",
              "      <th>0</th>\n",
              "      <td>63</td>\n",
              "      <td>1</td>\n",
              "      <td>1</td>\n",
              "      <td>145</td>\n",
              "      <td>233</td>\n",
              "      <td>1</td>\n",
              "      <td>2</td>\n",
              "      <td>150</td>\n",
              "      <td>0</td>\n",
              "      <td>2.3</td>\n",
              "      <td>3</td>\n",
              "      <td>0</td>\n",
              "      <td>fixed</td>\n",
              "      <td>0</td>\n",
              "    </tr>\n",
              "    <tr>\n",
              "      <th>1</th>\n",
              "      <td>67</td>\n",
              "      <td>1</td>\n",
              "      <td>4</td>\n",
              "      <td>160</td>\n",
              "      <td>286</td>\n",
              "      <td>0</td>\n",
              "      <td>2</td>\n",
              "      <td>108</td>\n",
              "      <td>1</td>\n",
              "      <td>1.5</td>\n",
              "      <td>2</td>\n",
              "      <td>3</td>\n",
              "      <td>normal</td>\n",
              "      <td>1</td>\n",
              "    </tr>\n",
              "    <tr>\n",
              "      <th>2</th>\n",
              "      <td>67</td>\n",
              "      <td>1</td>\n",
              "      <td>4</td>\n",
              "      <td>120</td>\n",
              "      <td>229</td>\n",
              "      <td>0</td>\n",
              "      <td>2</td>\n",
              "      <td>129</td>\n",
              "      <td>1</td>\n",
              "      <td>2.6</td>\n",
              "      <td>2</td>\n",
              "      <td>2</td>\n",
              "      <td>reversible</td>\n",
              "      <td>0</td>\n",
              "    </tr>\n",
              "    <tr>\n",
              "      <th>3</th>\n",
              "      <td>37</td>\n",
              "      <td>1</td>\n",
              "      <td>3</td>\n",
              "      <td>130</td>\n",
              "      <td>250</td>\n",
              "      <td>0</td>\n",
              "      <td>0</td>\n",
              "      <td>187</td>\n",
              "      <td>0</td>\n",
              "      <td>3.5</td>\n",
              "      <td>3</td>\n",
              "      <td>0</td>\n",
              "      <td>normal</td>\n",
              "      <td>0</td>\n",
              "    </tr>\n",
              "    <tr>\n",
              "      <th>4</th>\n",
              "      <td>41</td>\n",
              "      <td>0</td>\n",
              "      <td>2</td>\n",
              "      <td>130</td>\n",
              "      <td>204</td>\n",
              "      <td>0</td>\n",
              "      <td>2</td>\n",
              "      <td>172</td>\n",
              "      <td>0</td>\n",
              "      <td>1.4</td>\n",
              "      <td>1</td>\n",
              "      <td>0</td>\n",
              "      <td>normal</td>\n",
              "      <td>0</td>\n",
              "    </tr>\n",
              "  </tbody>\n",
              "</table>\n",
              "</div>\n",
              "      <button class=\"colab-df-convert\" onclick=\"convertToInteractive('df-80fc3c10-650d-4ba9-9395-ad8a2f864a0f')\"\n",
              "              title=\"Convert this dataframe to an interactive table.\"\n",
              "              style=\"display:none;\">\n",
              "        \n",
              "  <svg xmlns=\"http://www.w3.org/2000/svg\" height=\"24px\"viewBox=\"0 0 24 24\"\n",
              "       width=\"24px\">\n",
              "    <path d=\"M0 0h24v24H0V0z\" fill=\"none\"/>\n",
              "    <path d=\"M18.56 5.44l.94 2.06.94-2.06 2.06-.94-2.06-.94-.94-2.06-.94 2.06-2.06.94zm-11 1L8.5 8.5l.94-2.06 2.06-.94-2.06-.94L8.5 2.5l-.94 2.06-2.06.94zm10 10l.94 2.06.94-2.06 2.06-.94-2.06-.94-.94-2.06-.94 2.06-2.06.94z\"/><path d=\"M17.41 7.96l-1.37-1.37c-.4-.4-.92-.59-1.43-.59-.52 0-1.04.2-1.43.59L10.3 9.45l-7.72 7.72c-.78.78-.78 2.05 0 2.83L4 21.41c.39.39.9.59 1.41.59.51 0 1.02-.2 1.41-.59l7.78-7.78 2.81-2.81c.8-.78.8-2.07 0-2.86zM5.41 20L4 18.59l7.72-7.72 1.47 1.35L5.41 20z\"/>\n",
              "  </svg>\n",
              "      </button>\n",
              "      \n",
              "  <style>\n",
              "    .colab-df-container {\n",
              "      display:flex;\n",
              "      flex-wrap:wrap;\n",
              "      gap: 12px;\n",
              "    }\n",
              "\n",
              "    .colab-df-convert {\n",
              "      background-color: #E8F0FE;\n",
              "      border: none;\n",
              "      border-radius: 50%;\n",
              "      cursor: pointer;\n",
              "      display: none;\n",
              "      fill: #1967D2;\n",
              "      height: 32px;\n",
              "      padding: 0 0 0 0;\n",
              "      width: 32px;\n",
              "    }\n",
              "\n",
              "    .colab-df-convert:hover {\n",
              "      background-color: #E2EBFA;\n",
              "      box-shadow: 0px 1px 2px rgba(60, 64, 67, 0.3), 0px 1px 3px 1px rgba(60, 64, 67, 0.15);\n",
              "      fill: #174EA6;\n",
              "    }\n",
              "\n",
              "    [theme=dark] .colab-df-convert {\n",
              "      background-color: #3B4455;\n",
              "      fill: #D2E3FC;\n",
              "    }\n",
              "\n",
              "    [theme=dark] .colab-df-convert:hover {\n",
              "      background-color: #434B5C;\n",
              "      box-shadow: 0px 1px 3px 1px rgba(0, 0, 0, 0.15);\n",
              "      filter: drop-shadow(0px 1px 2px rgba(0, 0, 0, 0.3));\n",
              "      fill: #FFFFFF;\n",
              "    }\n",
              "  </style>\n",
              "\n",
              "      <script>\n",
              "        const buttonEl =\n",
              "          document.querySelector('#df-80fc3c10-650d-4ba9-9395-ad8a2f864a0f button.colab-df-convert');\n",
              "        buttonEl.style.display =\n",
              "          google.colab.kernel.accessAllowed ? 'block' : 'none';\n",
              "\n",
              "        async function convertToInteractive(key) {\n",
              "          const element = document.querySelector('#df-80fc3c10-650d-4ba9-9395-ad8a2f864a0f');\n",
              "          const dataTable =\n",
              "            await google.colab.kernel.invokeFunction('convertToInteractive',\n",
              "                                                     [key], {});\n",
              "          if (!dataTable) return;\n",
              "\n",
              "          const docLinkHtml = 'Like what you see? Visit the ' +\n",
              "            '<a target=\"_blank\" href=https://colab.research.google.com/notebooks/data_table.ipynb>data table notebook</a>'\n",
              "            + ' to learn more about interactive tables.';\n",
              "          element.innerHTML = '';\n",
              "          dataTable['output_type'] = 'display_data';\n",
              "          await google.colab.output.renderOutput(dataTable, element);\n",
              "          const docLink = document.createElement('div');\n",
              "          docLink.innerHTML = docLinkHtml;\n",
              "          element.appendChild(docLink);\n",
              "        }\n",
              "      </script>\n",
              "    </div>\n",
              "  </div>\n",
              "  "
            ]
          },
          "metadata": {},
          "execution_count": 4
        }
      ],
      "source": [
        "df.head()"
      ]
    },
    {
      "cell_type": "markdown",
      "metadata": {
        "id": "Tp9o9bm58pgu"
      },
      "source": [
        "## Preprocessing \n",
        "\n",
        "This dataset has both categorical variables and numeric variables.\n",
        "\n",
        "We'd like to preprocess them as follows:\n",
        "- *one-hot encode* the categorical variables\n",
        "- *normalize* the numeric variables\n",
        "\n",
        "It will be convenient (for later processing) to collect these groups of variables into two lists."
      ]
    },
    {
      "cell_type": "code",
      "source": [
        "categorical_variables = ['sex', 'cp', 'fbs', 'restecg','exang', 'ca', 'thal']\n",
        "numerics = ['age', 'trestbps','chol', 'thalach', 'oldpeak', 'slope']"
      ],
      "metadata": {
        "id": "sY6ASs0BTlUh"
      },
      "execution_count": null,
      "outputs": []
    },
    {
      "cell_type": "markdown",
      "source": [
        "\n",
        "With the pandas `get_dummies` function, you can one-hot-encode in one line.\n"
      ],
      "metadata": {
        "id": "_y45-rf-ZdOp"
      }
    },
    {
      "cell_type": "code",
      "source": [
        "df = pd.get_dummies(df, columns = categorical_variables)"
      ],
      "metadata": {
        "id": "8rOCggp2Tius"
      },
      "execution_count": null,
      "outputs": []
    },
    {
      "cell_type": "code",
      "source": [
        "df.head()"
      ],
      "metadata": {
        "colab": {
          "base_uri": "https://localhost:8080/",
          "height": 299
        },
        "id": "iEeCwpvQfilR",
        "outputId": "ce4482b6-3a90-4a4b-94b3-9edd80c2ac74"
      },
      "execution_count": null,
      "outputs": [
        {
          "output_type": "execute_result",
          "data": {
            "text/plain": [
              "   age  trestbps  chol  thalach  oldpeak  slope  target  sex_0  sex_1  cp_0  \\\n",
              "0   63       145   233      150      2.3      3       0      0      1     0   \n",
              "1   67       160   286      108      1.5      2       1      0      1     0   \n",
              "2   67       120   229      129      2.6      2       0      0      1     0   \n",
              "3   37       130   250      187      3.5      3       0      0      1     0   \n",
              "4   41       130   204      172      1.4      1       0      1      0     0   \n",
              "\n",
              "   ...  exang_1  ca_0  ca_1  ca_2  ca_3  thal_1  thal_2  thal_fixed  \\\n",
              "0  ...        0     1     0     0     0       0       0           1   \n",
              "1  ...        1     0     0     0     1       0       0           0   \n",
              "2  ...        1     0     0     1     0       0       0           0   \n",
              "3  ...        0     1     0     0     0       0       0           0   \n",
              "4  ...        0     1     0     0     0       0       0           0   \n",
              "\n",
              "   thal_normal  thal_reversible  \n",
              "0            0                0  \n",
              "1            1                0  \n",
              "2            0                1  \n",
              "3            1                0  \n",
              "4            1                0  \n",
              "\n",
              "[5 rows x 30 columns]"
            ],
            "text/html": [
              "\n",
              "  <div id=\"df-c69c6395-472c-4236-9f2e-8181ac69666a\">\n",
              "    <div class=\"colab-df-container\">\n",
              "      <div>\n",
              "<style scoped>\n",
              "    .dataframe tbody tr th:only-of-type {\n",
              "        vertical-align: middle;\n",
              "    }\n",
              "\n",
              "    .dataframe tbody tr th {\n",
              "        vertical-align: top;\n",
              "    }\n",
              "\n",
              "    .dataframe thead th {\n",
              "        text-align: right;\n",
              "    }\n",
              "</style>\n",
              "<table border=\"1\" class=\"dataframe\">\n",
              "  <thead>\n",
              "    <tr style=\"text-align: right;\">\n",
              "      <th></th>\n",
              "      <th>age</th>\n",
              "      <th>trestbps</th>\n",
              "      <th>chol</th>\n",
              "      <th>thalach</th>\n",
              "      <th>oldpeak</th>\n",
              "      <th>slope</th>\n",
              "      <th>target</th>\n",
              "      <th>sex_0</th>\n",
              "      <th>sex_1</th>\n",
              "      <th>cp_0</th>\n",
              "      <th>...</th>\n",
              "      <th>exang_1</th>\n",
              "      <th>ca_0</th>\n",
              "      <th>ca_1</th>\n",
              "      <th>ca_2</th>\n",
              "      <th>ca_3</th>\n",
              "      <th>thal_1</th>\n",
              "      <th>thal_2</th>\n",
              "      <th>thal_fixed</th>\n",
              "      <th>thal_normal</th>\n",
              "      <th>thal_reversible</th>\n",
              "    </tr>\n",
              "  </thead>\n",
              "  <tbody>\n",
              "    <tr>\n",
              "      <th>0</th>\n",
              "      <td>63</td>\n",
              "      <td>145</td>\n",
              "      <td>233</td>\n",
              "      <td>150</td>\n",
              "      <td>2.3</td>\n",
              "      <td>3</td>\n",
              "      <td>0</td>\n",
              "      <td>0</td>\n",
              "      <td>1</td>\n",
              "      <td>0</td>\n",
              "      <td>...</td>\n",
              "      <td>0</td>\n",
              "      <td>1</td>\n",
              "      <td>0</td>\n",
              "      <td>0</td>\n",
              "      <td>0</td>\n",
              "      <td>0</td>\n",
              "      <td>0</td>\n",
              "      <td>1</td>\n",
              "      <td>0</td>\n",
              "      <td>0</td>\n",
              "    </tr>\n",
              "    <tr>\n",
              "      <th>1</th>\n",
              "      <td>67</td>\n",
              "      <td>160</td>\n",
              "      <td>286</td>\n",
              "      <td>108</td>\n",
              "      <td>1.5</td>\n",
              "      <td>2</td>\n",
              "      <td>1</td>\n",
              "      <td>0</td>\n",
              "      <td>1</td>\n",
              "      <td>0</td>\n",
              "      <td>...</td>\n",
              "      <td>1</td>\n",
              "      <td>0</td>\n",
              "      <td>0</td>\n",
              "      <td>0</td>\n",
              "      <td>1</td>\n",
              "      <td>0</td>\n",
              "      <td>0</td>\n",
              "      <td>0</td>\n",
              "      <td>1</td>\n",
              "      <td>0</td>\n",
              "    </tr>\n",
              "    <tr>\n",
              "      <th>2</th>\n",
              "      <td>67</td>\n",
              "      <td>120</td>\n",
              "      <td>229</td>\n",
              "      <td>129</td>\n",
              "      <td>2.6</td>\n",
              "      <td>2</td>\n",
              "      <td>0</td>\n",
              "      <td>0</td>\n",
              "      <td>1</td>\n",
              "      <td>0</td>\n",
              "      <td>...</td>\n",
              "      <td>1</td>\n",
              "      <td>0</td>\n",
              "      <td>0</td>\n",
              "      <td>1</td>\n",
              "      <td>0</td>\n",
              "      <td>0</td>\n",
              "      <td>0</td>\n",
              "      <td>0</td>\n",
              "      <td>0</td>\n",
              "      <td>1</td>\n",
              "    </tr>\n",
              "    <tr>\n",
              "      <th>3</th>\n",
              "      <td>37</td>\n",
              "      <td>130</td>\n",
              "      <td>250</td>\n",
              "      <td>187</td>\n",
              "      <td>3.5</td>\n",
              "      <td>3</td>\n",
              "      <td>0</td>\n",
              "      <td>0</td>\n",
              "      <td>1</td>\n",
              "      <td>0</td>\n",
              "      <td>...</td>\n",
              "      <td>0</td>\n",
              "      <td>1</td>\n",
              "      <td>0</td>\n",
              "      <td>0</td>\n",
              "      <td>0</td>\n",
              "      <td>0</td>\n",
              "      <td>0</td>\n",
              "      <td>0</td>\n",
              "      <td>1</td>\n",
              "      <td>0</td>\n",
              "    </tr>\n",
              "    <tr>\n",
              "      <th>4</th>\n",
              "      <td>41</td>\n",
              "      <td>130</td>\n",
              "      <td>204</td>\n",
              "      <td>172</td>\n",
              "      <td>1.4</td>\n",
              "      <td>1</td>\n",
              "      <td>0</td>\n",
              "      <td>1</td>\n",
              "      <td>0</td>\n",
              "      <td>0</td>\n",
              "      <td>...</td>\n",
              "      <td>0</td>\n",
              "      <td>1</td>\n",
              "      <td>0</td>\n",
              "      <td>0</td>\n",
              "      <td>0</td>\n",
              "      <td>0</td>\n",
              "      <td>0</td>\n",
              "      <td>0</td>\n",
              "      <td>1</td>\n",
              "      <td>0</td>\n",
              "    </tr>\n",
              "  </tbody>\n",
              "</table>\n",
              "<p>5 rows × 30 columns</p>\n",
              "</div>\n",
              "      <button class=\"colab-df-convert\" onclick=\"convertToInteractive('df-c69c6395-472c-4236-9f2e-8181ac69666a')\"\n",
              "              title=\"Convert this dataframe to an interactive table.\"\n",
              "              style=\"display:none;\">\n",
              "        \n",
              "  <svg xmlns=\"http://www.w3.org/2000/svg\" height=\"24px\"viewBox=\"0 0 24 24\"\n",
              "       width=\"24px\">\n",
              "    <path d=\"M0 0h24v24H0V0z\" fill=\"none\"/>\n",
              "    <path d=\"M18.56 5.44l.94 2.06.94-2.06 2.06-.94-2.06-.94-.94-2.06-.94 2.06-2.06.94zm-11 1L8.5 8.5l.94-2.06 2.06-.94-2.06-.94L8.5 2.5l-.94 2.06-2.06.94zm10 10l.94 2.06.94-2.06 2.06-.94-2.06-.94-.94-2.06-.94 2.06-2.06.94z\"/><path d=\"M17.41 7.96l-1.37-1.37c-.4-.4-.92-.59-1.43-.59-.52 0-1.04.2-1.43.59L10.3 9.45l-7.72 7.72c-.78.78-.78 2.05 0 2.83L4 21.41c.39.39.9.59 1.41.59.51 0 1.02-.2 1.41-.59l7.78-7.78 2.81-2.81c.8-.78.8-2.07 0-2.86zM5.41 20L4 18.59l7.72-7.72 1.47 1.35L5.41 20z\"/>\n",
              "  </svg>\n",
              "      </button>\n",
              "      \n",
              "  <style>\n",
              "    .colab-df-container {\n",
              "      display:flex;\n",
              "      flex-wrap:wrap;\n",
              "      gap: 12px;\n",
              "    }\n",
              "\n",
              "    .colab-df-convert {\n",
              "      background-color: #E8F0FE;\n",
              "      border: none;\n",
              "      border-radius: 50%;\n",
              "      cursor: pointer;\n",
              "      display: none;\n",
              "      fill: #1967D2;\n",
              "      height: 32px;\n",
              "      padding: 0 0 0 0;\n",
              "      width: 32px;\n",
              "    }\n",
              "\n",
              "    .colab-df-convert:hover {\n",
              "      background-color: #E2EBFA;\n",
              "      box-shadow: 0px 1px 2px rgba(60, 64, 67, 0.3), 0px 1px 3px 1px rgba(60, 64, 67, 0.15);\n",
              "      fill: #174EA6;\n",
              "    }\n",
              "\n",
              "    [theme=dark] .colab-df-convert {\n",
              "      background-color: #3B4455;\n",
              "      fill: #D2E3FC;\n",
              "    }\n",
              "\n",
              "    [theme=dark] .colab-df-convert:hover {\n",
              "      background-color: #434B5C;\n",
              "      box-shadow: 0px 1px 3px 1px rgba(0, 0, 0, 0.15);\n",
              "      filter: drop-shadow(0px 1px 2px rgba(0, 0, 0, 0.3));\n",
              "      fill: #FFFFFF;\n",
              "    }\n",
              "  </style>\n",
              "\n",
              "      <script>\n",
              "        const buttonEl =\n",
              "          document.querySelector('#df-c69c6395-472c-4236-9f2e-8181ac69666a button.colab-df-convert');\n",
              "        buttonEl.style.display =\n",
              "          google.colab.kernel.accessAllowed ? 'block' : 'none';\n",
              "\n",
              "        async function convertToInteractive(key) {\n",
              "          const element = document.querySelector('#df-c69c6395-472c-4236-9f2e-8181ac69666a');\n",
              "          const dataTable =\n",
              "            await google.colab.kernel.invokeFunction('convertToInteractive',\n",
              "                                                     [key], {});\n",
              "          if (!dataTable) return;\n",
              "\n",
              "          const docLinkHtml = 'Like what you see? Visit the ' +\n",
              "            '<a target=\"_blank\" href=https://colab.research.google.com/notebooks/data_table.ipynb>data table notebook</a>'\n",
              "            + ' to learn more about interactive tables.';\n",
              "          element.innerHTML = '';\n",
              "          dataTable['output_type'] = 'display_data';\n",
              "          await google.colab.output.renderOutput(dataTable, element);\n",
              "          const docLink = document.createElement('div');\n",
              "          docLink.innerHTML = docLinkHtml;\n",
              "          element.appendChild(docLink);\n",
              "        }\n",
              "      </script>\n",
              "    </div>\n",
              "  </div>\n",
              "  "
            ]
          },
          "metadata": {},
          "execution_count": 7
        }
      ]
    },
    {
      "cell_type": "markdown",
      "metadata": {
        "id": "CK3j-Baa8pgs"
      },
      "source": [
        "\n",
        "Before we normalize the numerics, let's split the data into an 80% training set and 20% test set (*why should we split **before** normalization?*)."
      ]
    },
    {
      "cell_type": "code",
      "execution_count": null,
      "metadata": {
        "id": "B1aHFYse8pgs"
      },
      "outputs": [],
      "source": [
        "test_df = df.sample(frac=0.2, random_state=42)\n",
        "train_df = df.drop(test_df.index)"
      ]
    },
    {
      "cell_type": "code",
      "source": [
        "train_df.shape"
      ],
      "metadata": {
        "colab": {
          "base_uri": "https://localhost:8080/"
        },
        "id": "UiTJwFySfphD",
        "outputId": "c1ed61a2-285e-4a3b-9211-b6b9ac9fb85d"
      },
      "execution_count": null,
      "outputs": [
        {
          "output_type": "execute_result",
          "data": {
            "text/plain": [
              "(242, 30)"
            ]
          },
          "metadata": {},
          "execution_count": 9
        }
      ]
    },
    {
      "cell_type": "code",
      "source": [
        "test_df.shape"
      ],
      "metadata": {
        "colab": {
          "base_uri": "https://localhost:8080/"
        },
        "id": "LpxTky1ONepp",
        "outputId": "cc6c44ff-2fd9-49a4-c791-c1d29de39224"
      },
      "execution_count": null,
      "outputs": [
        {
          "output_type": "execute_result",
          "data": {
            "text/plain": [
              "(61, 30)"
            ]
          },
          "metadata": {},
          "execution_count": 10
        }
      ]
    },
    {
      "cell_type": "markdown",
      "source": [
        "OK, let's calculate the mean and standard deviation of every numeric variable in the training set."
      ],
      "metadata": {
        "id": "UwrTlwA3NhuV"
      }
    },
    {
      "cell_type": "code",
      "source": [
        "means = train_df[numerics].mean()\n",
        "sd = train_df[numerics].std()"
      ],
      "metadata": {
        "id": "thKdv04AZfhz"
      },
      "execution_count": null,
      "outputs": []
    },
    {
      "cell_type": "code",
      "source": [
        "means"
      ],
      "metadata": {
        "colab": {
          "base_uri": "https://localhost:8080/"
        },
        "id": "jMUE8D9Jfuv7",
        "outputId": "10260618-2f81-49b7-ecdf-33da5dc6fea1"
      },
      "execution_count": null,
      "outputs": [
        {
          "output_type": "execute_result",
          "data": {
            "text/plain": [
              "age          54.268595\n",
              "trestbps    131.995868\n",
              "chol        246.512397\n",
              "thalach     149.805785\n",
              "oldpeak       1.032645\n",
              "slope         1.590909\n",
              "dtype: float64"
            ]
          },
          "metadata": {},
          "execution_count": 12
        }
      ]
    },
    {
      "cell_type": "markdown",
      "source": [
        "Let's normalize the train and test dataframes with these means and standard deviations."
      ],
      "metadata": {
        "id": "L1YP45i4Zfzx"
      }
    },
    {
      "cell_type": "code",
      "source": [
        "train_df[numerics]= (train_df[numerics] - means)/sd"
      ],
      "metadata": {
        "id": "LPtsJD6jZ5E4"
      },
      "execution_count": null,
      "outputs": []
    },
    {
      "cell_type": "code",
      "source": [
        "test_df[numerics]= (test_df[numerics] - means)/sd"
      ],
      "metadata": {
        "id": "hqzdrYJbaHT8"
      },
      "execution_count": null,
      "outputs": []
    },
    {
      "cell_type": "code",
      "source": [
        "train_df.head()"
      ],
      "metadata": {
        "colab": {
          "base_uri": "https://localhost:8080/",
          "height": 299
        },
        "id": "y5jErgL5fycw",
        "outputId": "fdf8be7d-0cc7-45fa-8ace-ce70ab0b63fe"
      },
      "execution_count": null,
      "outputs": [
        {
          "output_type": "execute_result",
          "data": {
            "text/plain": [
              "        age  trestbps      chol   thalach   oldpeak     slope  target  sex_0  \\\n",
              "0  0.963746  0.721939 -0.278690  0.008396  1.083461  2.226814       0      0   \n",
              "1  1.405254  1.554681  0.814423 -1.807247  0.399542  0.646494       1      0   \n",
              "2  1.405254 -0.665964 -0.361189 -0.899426  1.339930  0.646494       0      0   \n",
              "3 -1.906055 -0.110803  0.071931  1.607891  2.109339  2.226814       0      0   \n",
              "4 -1.464547 -0.110803 -0.876809  0.959447  0.314052 -0.933825       0      1   \n",
              "\n",
              "   sex_1  cp_0  ...  exang_1  ca_0  ca_1  ca_2  ca_3  thal_1  thal_2  \\\n",
              "0      1     0  ...        0     1     0     0     0       0       0   \n",
              "1      1     0  ...        1     0     0     0     1       0       0   \n",
              "2      1     0  ...        1     0     0     1     0       0       0   \n",
              "3      1     0  ...        0     1     0     0     0       0       0   \n",
              "4      0     0  ...        0     1     0     0     0       0       0   \n",
              "\n",
              "   thal_fixed  thal_normal  thal_reversible  \n",
              "0           1            0                0  \n",
              "1           0            1                0  \n",
              "2           0            0                1  \n",
              "3           0            1                0  \n",
              "4           0            1                0  \n",
              "\n",
              "[5 rows x 30 columns]"
            ],
            "text/html": [
              "\n",
              "  <div id=\"df-9cf6e4bd-2c87-403c-b117-cb53efb38e78\">\n",
              "    <div class=\"colab-df-container\">\n",
              "      <div>\n",
              "<style scoped>\n",
              "    .dataframe tbody tr th:only-of-type {\n",
              "        vertical-align: middle;\n",
              "    }\n",
              "\n",
              "    .dataframe tbody tr th {\n",
              "        vertical-align: top;\n",
              "    }\n",
              "\n",
              "    .dataframe thead th {\n",
              "        text-align: right;\n",
              "    }\n",
              "</style>\n",
              "<table border=\"1\" class=\"dataframe\">\n",
              "  <thead>\n",
              "    <tr style=\"text-align: right;\">\n",
              "      <th></th>\n",
              "      <th>age</th>\n",
              "      <th>trestbps</th>\n",
              "      <th>chol</th>\n",
              "      <th>thalach</th>\n",
              "      <th>oldpeak</th>\n",
              "      <th>slope</th>\n",
              "      <th>target</th>\n",
              "      <th>sex_0</th>\n",
              "      <th>sex_1</th>\n",
              "      <th>cp_0</th>\n",
              "      <th>...</th>\n",
              "      <th>exang_1</th>\n",
              "      <th>ca_0</th>\n",
              "      <th>ca_1</th>\n",
              "      <th>ca_2</th>\n",
              "      <th>ca_3</th>\n",
              "      <th>thal_1</th>\n",
              "      <th>thal_2</th>\n",
              "      <th>thal_fixed</th>\n",
              "      <th>thal_normal</th>\n",
              "      <th>thal_reversible</th>\n",
              "    </tr>\n",
              "  </thead>\n",
              "  <tbody>\n",
              "    <tr>\n",
              "      <th>0</th>\n",
              "      <td>0.963746</td>\n",
              "      <td>0.721939</td>\n",
              "      <td>-0.278690</td>\n",
              "      <td>0.008396</td>\n",
              "      <td>1.083461</td>\n",
              "      <td>2.226814</td>\n",
              "      <td>0</td>\n",
              "      <td>0</td>\n",
              "      <td>1</td>\n",
              "      <td>0</td>\n",
              "      <td>...</td>\n",
              "      <td>0</td>\n",
              "      <td>1</td>\n",
              "      <td>0</td>\n",
              "      <td>0</td>\n",
              "      <td>0</td>\n",
              "      <td>0</td>\n",
              "      <td>0</td>\n",
              "      <td>1</td>\n",
              "      <td>0</td>\n",
              "      <td>0</td>\n",
              "    </tr>\n",
              "    <tr>\n",
              "      <th>1</th>\n",
              "      <td>1.405254</td>\n",
              "      <td>1.554681</td>\n",
              "      <td>0.814423</td>\n",
              "      <td>-1.807247</td>\n",
              "      <td>0.399542</td>\n",
              "      <td>0.646494</td>\n",
              "      <td>1</td>\n",
              "      <td>0</td>\n",
              "      <td>1</td>\n",
              "      <td>0</td>\n",
              "      <td>...</td>\n",
              "      <td>1</td>\n",
              "      <td>0</td>\n",
              "      <td>0</td>\n",
              "      <td>0</td>\n",
              "      <td>1</td>\n",
              "      <td>0</td>\n",
              "      <td>0</td>\n",
              "      <td>0</td>\n",
              "      <td>1</td>\n",
              "      <td>0</td>\n",
              "    </tr>\n",
              "    <tr>\n",
              "      <th>2</th>\n",
              "      <td>1.405254</td>\n",
              "      <td>-0.665964</td>\n",
              "      <td>-0.361189</td>\n",
              "      <td>-0.899426</td>\n",
              "      <td>1.339930</td>\n",
              "      <td>0.646494</td>\n",
              "      <td>0</td>\n",
              "      <td>0</td>\n",
              "      <td>1</td>\n",
              "      <td>0</td>\n",
              "      <td>...</td>\n",
              "      <td>1</td>\n",
              "      <td>0</td>\n",
              "      <td>0</td>\n",
              "      <td>1</td>\n",
              "      <td>0</td>\n",
              "      <td>0</td>\n",
              "      <td>0</td>\n",
              "      <td>0</td>\n",
              "      <td>0</td>\n",
              "      <td>1</td>\n",
              "    </tr>\n",
              "    <tr>\n",
              "      <th>3</th>\n",
              "      <td>-1.906055</td>\n",
              "      <td>-0.110803</td>\n",
              "      <td>0.071931</td>\n",
              "      <td>1.607891</td>\n",
              "      <td>2.109339</td>\n",
              "      <td>2.226814</td>\n",
              "      <td>0</td>\n",
              "      <td>0</td>\n",
              "      <td>1</td>\n",
              "      <td>0</td>\n",
              "      <td>...</td>\n",
              "      <td>0</td>\n",
              "      <td>1</td>\n",
              "      <td>0</td>\n",
              "      <td>0</td>\n",
              "      <td>0</td>\n",
              "      <td>0</td>\n",
              "      <td>0</td>\n",
              "      <td>0</td>\n",
              "      <td>1</td>\n",
              "      <td>0</td>\n",
              "    </tr>\n",
              "    <tr>\n",
              "      <th>4</th>\n",
              "      <td>-1.464547</td>\n",
              "      <td>-0.110803</td>\n",
              "      <td>-0.876809</td>\n",
              "      <td>0.959447</td>\n",
              "      <td>0.314052</td>\n",
              "      <td>-0.933825</td>\n",
              "      <td>0</td>\n",
              "      <td>1</td>\n",
              "      <td>0</td>\n",
              "      <td>0</td>\n",
              "      <td>...</td>\n",
              "      <td>0</td>\n",
              "      <td>1</td>\n",
              "      <td>0</td>\n",
              "      <td>0</td>\n",
              "      <td>0</td>\n",
              "      <td>0</td>\n",
              "      <td>0</td>\n",
              "      <td>0</td>\n",
              "      <td>1</td>\n",
              "      <td>0</td>\n",
              "    </tr>\n",
              "  </tbody>\n",
              "</table>\n",
              "<p>5 rows × 30 columns</p>\n",
              "</div>\n",
              "      <button class=\"colab-df-convert\" onclick=\"convertToInteractive('df-9cf6e4bd-2c87-403c-b117-cb53efb38e78')\"\n",
              "              title=\"Convert this dataframe to an interactive table.\"\n",
              "              style=\"display:none;\">\n",
              "        \n",
              "  <svg xmlns=\"http://www.w3.org/2000/svg\" height=\"24px\"viewBox=\"0 0 24 24\"\n",
              "       width=\"24px\">\n",
              "    <path d=\"M0 0h24v24H0V0z\" fill=\"none\"/>\n",
              "    <path d=\"M18.56 5.44l.94 2.06.94-2.06 2.06-.94-2.06-.94-.94-2.06-.94 2.06-2.06.94zm-11 1L8.5 8.5l.94-2.06 2.06-.94-2.06-.94L8.5 2.5l-.94 2.06-2.06.94zm10 10l.94 2.06.94-2.06 2.06-.94-2.06-.94-.94-2.06-.94 2.06-2.06.94z\"/><path d=\"M17.41 7.96l-1.37-1.37c-.4-.4-.92-.59-1.43-.59-.52 0-1.04.2-1.43.59L10.3 9.45l-7.72 7.72c-.78.78-.78 2.05 0 2.83L4 21.41c.39.39.9.59 1.41.59.51 0 1.02-.2 1.41-.59l7.78-7.78 2.81-2.81c.8-.78.8-2.07 0-2.86zM5.41 20L4 18.59l7.72-7.72 1.47 1.35L5.41 20z\"/>\n",
              "  </svg>\n",
              "      </button>\n",
              "      \n",
              "  <style>\n",
              "    .colab-df-container {\n",
              "      display:flex;\n",
              "      flex-wrap:wrap;\n",
              "      gap: 12px;\n",
              "    }\n",
              "\n",
              "    .colab-df-convert {\n",
              "      background-color: #E8F0FE;\n",
              "      border: none;\n",
              "      border-radius: 50%;\n",
              "      cursor: pointer;\n",
              "      display: none;\n",
              "      fill: #1967D2;\n",
              "      height: 32px;\n",
              "      padding: 0 0 0 0;\n",
              "      width: 32px;\n",
              "    }\n",
              "\n",
              "    .colab-df-convert:hover {\n",
              "      background-color: #E2EBFA;\n",
              "      box-shadow: 0px 1px 2px rgba(60, 64, 67, 0.3), 0px 1px 3px 1px rgba(60, 64, 67, 0.15);\n",
              "      fill: #174EA6;\n",
              "    }\n",
              "\n",
              "    [theme=dark] .colab-df-convert {\n",
              "      background-color: #3B4455;\n",
              "      fill: #D2E3FC;\n",
              "    }\n",
              "\n",
              "    [theme=dark] .colab-df-convert:hover {\n",
              "      background-color: #434B5C;\n",
              "      box-shadow: 0px 1px 3px 1px rgba(0, 0, 0, 0.15);\n",
              "      filter: drop-shadow(0px 1px 2px rgba(0, 0, 0, 0.3));\n",
              "      fill: #FFFFFF;\n",
              "    }\n",
              "  </style>\n",
              "\n",
              "      <script>\n",
              "        const buttonEl =\n",
              "          document.querySelector('#df-9cf6e4bd-2c87-403c-b117-cb53efb38e78 button.colab-df-convert');\n",
              "        buttonEl.style.display =\n",
              "          google.colab.kernel.accessAllowed ? 'block' : 'none';\n",
              "\n",
              "        async function convertToInteractive(key) {\n",
              "          const element = document.querySelector('#df-9cf6e4bd-2c87-403c-b117-cb53efb38e78');\n",
              "          const dataTable =\n",
              "            await google.colab.kernel.invokeFunction('convertToInteractive',\n",
              "                                                     [key], {});\n",
              "          if (!dataTable) return;\n",
              "\n",
              "          const docLinkHtml = 'Like what you see? Visit the ' +\n",
              "            '<a target=\"_blank\" href=https://colab.research.google.com/notebooks/data_table.ipynb>data table notebook</a>'\n",
              "            + ' to learn more about interactive tables.';\n",
              "          element.innerHTML = '';\n",
              "          dataTable['output_type'] = 'display_data';\n",
              "          await google.colab.output.renderOutput(dataTable, element);\n",
              "          const docLink = document.createElement('div');\n",
              "          docLink.innerHTML = docLinkHtml;\n",
              "          element.appendChild(docLink);\n",
              "        }\n",
              "      </script>\n",
              "    </div>\n",
              "  </div>\n",
              "  "
            ]
          },
          "metadata": {},
          "execution_count": 15
        }
      ]
    },
    {
      "cell_type": "markdown",
      "source": [
        "The easiest way to feed data to Keras/Tensorflow is as Numpy arrays so we convert our two dataframes."
      ],
      "metadata": {
        "id": "jxB_UeNMN6Al"
      }
    },
    {
      "cell_type": "code",
      "source": [
        "train = train_df.to_numpy()\n",
        "test = test_df.to_numpy()"
      ],
      "metadata": {
        "id": "0ivSr2kzW6tY"
      },
      "execution_count": null,
      "outputs": []
    },
    {
      "cell_type": "markdown",
      "source": [
        "At this point, our features $X$ and dependent variable $y$ are both inside the arrays so let's separate them out.\n",
        "\n",
        "**There's a bug in the code below. See if you can spot it.**"
      ],
      "metadata": {
        "id": "ugk7qXIXON5V"
      }
    },
    {
      "cell_type": "code",
      "source": [
        "train_X = train[:,: -1]\n",
        "train_y = train[:, -1]\n",
        "test_X = test[:,: -1]\n",
        "test_y = test[:, -1]"
      ],
      "metadata": {
        "id": "ieb-7302dqmc"
      },
      "execution_count": null,
      "outputs": []
    },
    {
      "cell_type": "markdown",
      "source": [
        "Select the right target column (the bug-free version)"
      ],
      "metadata": {
        "id": "95fL1gxgqRE2"
      }
    },
    {
      "cell_type": "code",
      "source": [
        "target = 6\n",
        "features = list(range(train.shape[1]))\n",
        "features.remove(target)\n",
        "\n",
        "train_X = train[:, features]\n",
        "train_y = train[:, target]\n",
        "test_X = test[:, features]\n",
        "test_y = test[:, target]"
      ],
      "metadata": {
        "id": "FtkKhfYkqKlZ"
      },
      "execution_count": null,
      "outputs": []
    },
    {
      "cell_type": "code",
      "source": [
        "train_X.shape, train_y.shape"
      ],
      "metadata": {
        "colab": {
          "base_uri": "https://localhost:8080/"
        },
        "id": "YcHmVPMIaS-E",
        "outputId": "36ccaf56-d9e9-4e68-b83d-a59863b2e53a"
      },
      "execution_count": null,
      "outputs": [
        {
          "output_type": "execute_result",
          "data": {
            "text/plain": [
              "((242, 29), (242,))"
            ]
          },
          "metadata": {},
          "execution_count": 18
        }
      ]
    },
    {
      "cell_type": "code",
      "source": [
        "test_X.shape, test_y.shape\n"
      ],
      "metadata": {
        "colab": {
          "base_uri": "https://localhost:8080/"
        },
        "id": "1uYWRkHIa3mL",
        "outputId": "15220e64-b3b1-4db1-8754-3d6b360e75cc"
      },
      "execution_count": null,
      "outputs": [
        {
          "output_type": "execute_result",
          "data": {
            "text/plain": [
              "((61, 29), (61,))"
            ]
          },
          "metadata": {},
          "execution_count": 19
        }
      ]
    },
    {
      "cell_type": "markdown",
      "metadata": {
        "id": "p0wrFZ9o8pgv"
      },
      "source": [
        "## Build a model\n"
      ]
    },
    {
      "cell_type": "markdown",
      "source": [
        "\n",
        "### Define model in Keras\n",
        "\n",
        "Creating an NN  is usually just a few lines of Keras code. \n",
        "\n",
        "* We will start with a single hidden layer. \n",
        "* Since this is a *binary classification problem*, we will use a sigmoid activation in the output layer."
      ],
      "metadata": {
        "id": "Gh4MNTIjreyL"
      }
    },
    {
      "cell_type": "code",
      "execution_count": null,
      "metadata": {
        "id": "69p4o0lR8pgv"
      },
      "outputs": [],
      "source": [
        "num_columns = train_X.shape[1]\n",
        "\n",
        "# define the input layer\n",
        "input = keras.Input(shape=num_columns)\n",
        "\n",
        "# feed the input vector to the hidden layer\n",
        "h = keras.layers.Dense(16, activation=\"relu\", name=\"Hidden\")(input)\n",
        "\n",
        "# feed the output of the hidden layer to the output layer\n",
        "output = keras.layers.Dense(1, activation=\"sigmoid\", name=\"Output\")(h)\n",
        "\n",
        "# tell Keras that this (input,output) pair is your model\n",
        "model = keras.Model(input, output)"
      ]
    },
    {
      "cell_type": "markdown",
      "source": [
        "The `model.summary()` command is a good way to get a quick overview of what you have defined."
      ],
      "metadata": {
        "id": "coJALvJfPZPl"
      }
    },
    {
      "cell_type": "code",
      "source": [
        "model.summary()"
      ],
      "metadata": {
        "colab": {
          "base_uri": "https://localhost:8080/"
        },
        "id": "tUL_yaaIbGVN",
        "outputId": "978570e7-7656-4589-b2c9-126edff38a10"
      },
      "execution_count": null,
      "outputs": [
        {
          "output_type": "stream",
          "name": "stdout",
          "text": [
            "Model: \"model\"\n",
            "_________________________________________________________________\n",
            " Layer (type)                Output Shape              Param #   \n",
            "=================================================================\n",
            " input_1 (InputLayer)        [(None, 29)]              0         \n",
            "                                                                 \n",
            " Hidden (Dense)              (None, 16)                480       \n",
            "                                                                 \n",
            " Output (Dense)              (None, 1)                 17        \n",
            "                                                                 \n",
            "=================================================================\n",
            "Total params: 497\n",
            "Trainable params: 497\n",
            "Non-trainable params: 0\n",
            "_________________________________________________________________\n"
          ]
        }
      ]
    },
    {
      "cell_type": "markdown",
      "source": [
        "We can \"visualize\" the network graphically as well using Keras' `plot_model` function."
      ],
      "metadata": {
        "id": "lfsdY6h5QBbV"
      }
    },
    {
      "cell_type": "code",
      "execution_count": null,
      "metadata": {
        "id": "uHfYbbKD8pgv",
        "colab": {
          "base_uri": "https://localhost:8080/",
          "height": 312
        },
        "outputId": "1d7bca1d-ff6c-49e9-ac87-98a8a983a3cc"
      },
      "outputs": [
        {
          "output_type": "execute_result",
          "data": {
            "text/plain": [
              "<IPython.core.display.Image object>"
            ],
            "image/png": "[encoded data removed]"
          },
          "metadata": {},
          "execution_count": 22
        }
      ],
      "source": [
        "keras.utils.plot_model(model, show_shapes=True)"
      ]
    },
    {
      "cell_type": "markdown",
      "source": [
        "Let's hand-calculate the number of parameters to verify."
      ],
      "metadata": {
        "id": "3Rtoj4OuPzVw"
      }
    },
    {
      "cell_type": "code",
      "source": [
        "(29 * 16 + 16) + (16 * 1 + 1)"
      ],
      "metadata": {
        "colab": {
          "base_uri": "https://localhost:8080/"
        },
        "id": "e_FpjV_1PiRP",
        "outputId": "92a92889-5fba-4c9f-866e-92ee7a08aea5"
      },
      "execution_count": null,
      "outputs": [
        {
          "output_type": "execute_result",
          "data": {
            "text/plain": [
              "497"
            ]
          },
          "metadata": {},
          "execution_count": 23
        }
      ]
    },
    {
      "cell_type": "markdown",
      "source": [
        "### Set optimization parameters"
      ],
      "metadata": {
        "id": "Igf5bWCZQG8E"
      }
    },
    {
      "cell_type": "markdown",
      "source": [
        "Now that the model is defined, we need to tell Keras three things:\n",
        "\n",
        "*   What **loss function** to use - Since our output variable is binary, we will select the `binary_crossentropy` loss function. \n",
        "*   Which **optimizer** to use - we will use a sibling of SGD called **Adam** which is an excellent default choice \n",
        "*   What **metrics** you want Keras to report out - in classification problems like this one, Accuracy is usually the metric you want to see."
      ],
      "metadata": {
        "id": "vaNfhfuAQIkZ"
      }
    },
    {
      "cell_type": "code",
      "source": [
        "model.compile(optimizer=\"adam\",\n",
        "              loss=\"binary_crossentropy\",\n",
        "              metrics=[\"accuracy\"])"
      ],
      "metadata": {
        "id": "RiJgZpm2PxDi"
      },
      "execution_count": null,
      "outputs": []
    },
    {
      "cell_type": "markdown",
      "source": [
        "## Train the model\n",
        "\n",
        "To kickoff training, we have to decide on three things:\n",
        "* The *batch size* - 32 is a good default\n",
        "* The number of *epochs* i.e., how many passes through the training data. Usually 20-30 epochs is a good starting point but since this dataset is very small, each epoch will be very quick so let's run it for 300 epochs. It will allow us to see if any overfitting happens\n",
        "* Whether we want to use a validation set. This will be useful for overfitting detection and regularization via early stopping so we will ask Keras to automatically use 20% of the data points as a validation set"
      ],
      "metadata": {
        "id": "8_gDdeqiQUeN"
      }
    },
    {
      "cell_type": "markdown",
      "metadata": {
        "id": "wPZFylPP8pgw"
      },
      "source": [
        "OK, let's train the model using the `model.fit` function!"
      ]
    },
    {
      "cell_type": "code",
      "execution_count": null,
      "metadata": {
        "id": "mo71UEBf8pgw",
        "colab": {
          "base_uri": "https://localhost:8080/"
        },
        "outputId": "824fcf12-c95e-4381-927a-a06b247e6cbe"
      },
      "outputs": [
        {
          "output_type": "stream",
          "name": "stdout",
          "text": [
            "Epoch 1/300\n",
            "7/7 [==============================] - 6s 159ms/step - loss: 0.9632 - accuracy: 0.2280 - val_loss: 0.8962 - val_accuracy: 0.2245\n",
            "Epoch 2/300\n",
            "7/7 [==============================] - 0s 9ms/step - loss: 0.8992 - accuracy: 0.2487 - val_loss: 0.8512 - val_accuracy: 0.3265\n",
            "Epoch 3/300\n",
            "7/7 [==============================] - 0s 22ms/step - loss: 0.8433 - accuracy: 0.3005 - val_loss: 0.8113 - val_accuracy: 0.2857\n",
            "Epoch 4/300\n",
            "7/7 [==============================] - 0s 14ms/step - loss: 0.7928 - accuracy: 0.3575 - val_loss: 0.7769 - val_accuracy: 0.3878\n",
            "Epoch 5/300\n",
            "7/7 [==============================] - 0s 13ms/step - loss: 0.7499 - accuracy: 0.4301 - val_loss: 0.7508 - val_accuracy: 0.4490\n",
            "Epoch 6/300\n",
            "7/7 [==============================] - 0s 15ms/step - loss: 0.7180 - accuracy: 0.4715 - val_loss: 0.7291 - val_accuracy: 0.4694\n",
            "Epoch 7/300\n",
            "7/7 [==============================] - 0s 18ms/step - loss: 0.6899 - accuracy: 0.5337 - val_loss: 0.7105 - val_accuracy: 0.5510\n",
            "Epoch 8/300\n",
            "7/7 [==============================] - 0s 23ms/step - loss: 0.6642 - accuracy: 0.5751 - val_loss: 0.6934 - val_accuracy: 0.5510\n",
            "Epoch 9/300\n",
            "7/7 [==============================] - 0s 16ms/step - loss: 0.6420 - accuracy: 0.6218 - val_loss: 0.6765 - val_accuracy: 0.6327\n",
            "Epoch 10/300\n",
            "7/7 [==============================] - 0s 8ms/step - loss: 0.6181 - accuracy: 0.6684 - val_loss: 0.6597 - val_accuracy: 0.6327\n",
            "Epoch 11/300\n",
            "7/7 [==============================] - 0s 8ms/step - loss: 0.5938 - accuracy: 0.6995 - val_loss: 0.6446 - val_accuracy: 0.6327\n",
            "Epoch 12/300\n",
            "7/7 [==============================] - 0s 12ms/step - loss: 0.5724 - accuracy: 0.7409 - val_loss: 0.6317 - val_accuracy: 0.6327\n",
            "Epoch 13/300\n",
            "7/7 [==============================] - 0s 11ms/step - loss: 0.5525 - accuracy: 0.7565 - val_loss: 0.6196 - val_accuracy: 0.5918\n",
            "Epoch 14/300\n",
            "7/7 [==============================] - 0s 11ms/step - loss: 0.5334 - accuracy: 0.7513 - val_loss: 0.6091 - val_accuracy: 0.6122\n",
            "Epoch 15/300\n",
            "7/7 [==============================] - 0s 15ms/step - loss: 0.5149 - accuracy: 0.7565 - val_loss: 0.5997 - val_accuracy: 0.6531\n",
            "Epoch 16/300\n",
            "7/7 [==============================] - 0s 9ms/step - loss: 0.4977 - accuracy: 0.7668 - val_loss: 0.5917 - val_accuracy: 0.6735\n",
            "Epoch 17/300\n",
            "7/7 [==============================] - 0s 6ms/step - loss: 0.4826 - accuracy: 0.7720 - val_loss: 0.5843 - val_accuracy: 0.6939\n",
            "Epoch 18/300\n",
            "7/7 [==============================] - 0s 6ms/step - loss: 0.4684 - accuracy: 0.7720 - val_loss: 0.5784 - val_accuracy: 0.7143\n",
            "Epoch 19/300\n",
            "7/7 [==============================] - 0s 6ms/step - loss: 0.4571 - accuracy: 0.7668 - val_loss: 0.5723 - val_accuracy: 0.6939\n",
            "Epoch 20/300\n",
            "7/7 [==============================] - 0s 6ms/step - loss: 0.4463 - accuracy: 0.7824 - val_loss: 0.5691 - val_accuracy: 0.7347\n",
            "Epoch 21/300\n",
            "7/7 [==============================] - 0s 6ms/step - loss: 0.4365 - accuracy: 0.7927 - val_loss: 0.5651 - val_accuracy: 0.7347\n",
            "Epoch 22/300\n",
            "7/7 [==============================] - 0s 6ms/step - loss: 0.4270 - accuracy: 0.7927 - val_loss: 0.5610 - val_accuracy: 0.7347\n",
            "Epoch 23/300\n",
            "7/7 [==============================] - 0s 7ms/step - loss: 0.4183 - accuracy: 0.7979 - val_loss: 0.5573 - val_accuracy: 0.7347\n",
            "Epoch 24/300\n",
            "7/7 [==============================] - 0s 6ms/step - loss: 0.4094 - accuracy: 0.7979 - val_loss: 0.5533 - val_accuracy: 0.7143\n",
            "Epoch 25/300\n",
            "7/7 [==============================] - 0s 9ms/step - loss: 0.4013 - accuracy: 0.8031 - val_loss: 0.5493 - val_accuracy: 0.7143\n",
            "Epoch 26/300\n",
            "7/7 [==============================] - 0s 6ms/step - loss: 0.3944 - accuracy: 0.7979 - val_loss: 0.5440 - val_accuracy: 0.6939\n",
            "Epoch 27/300\n",
            "7/7 [==============================] - 0s 6ms/step - loss: 0.3877 - accuracy: 0.8083 - val_loss: 0.5394 - val_accuracy: 0.6939\n",
            "Epoch 28/300\n",
            "7/7 [==============================] - 0s 7ms/step - loss: 0.3807 - accuracy: 0.8187 - val_loss: 0.5343 - val_accuracy: 0.6939\n",
            "Epoch 29/300\n",
            "7/7 [==============================] - 0s 6ms/step - loss: 0.3739 - accuracy: 0.8342 - val_loss: 0.5306 - val_accuracy: 0.7143\n",
            "Epoch 30/300\n",
            "7/7 [==============================] - 0s 6ms/step - loss: 0.3680 - accuracy: 0.8342 - val_loss: 0.5267 - val_accuracy: 0.7143\n",
            "Epoch 31/300\n",
            "7/7 [==============================] - 0s 6ms/step - loss: 0.3631 - accuracy: 0.8549 - val_loss: 0.5207 - val_accuracy: 0.7143\n",
            "Epoch 32/300\n",
            "7/7 [==============================] - 0s 5ms/step - loss: 0.3596 - accuracy: 0.8653 - val_loss: 0.5150 - val_accuracy: 0.7143\n",
            "Epoch 33/300\n",
            "7/7 [==============================] - 0s 6ms/step - loss: 0.3551 - accuracy: 0.8705 - val_loss: 0.5107 - val_accuracy: 0.7347\n",
            "Epoch 34/300\n",
            "7/7 [==============================] - 0s 6ms/step - loss: 0.3512 - accuracy: 0.8705 - val_loss: 0.5074 - val_accuracy: 0.7143\n",
            "Epoch 35/300\n",
            "7/7 [==============================] - 0s 6ms/step - loss: 0.3470 - accuracy: 0.8653 - val_loss: 0.5049 - val_accuracy: 0.7143\n",
            "Epoch 36/300\n",
            "7/7 [==============================] - 0s 6ms/step - loss: 0.3429 - accuracy: 0.8705 - val_loss: 0.5034 - val_accuracy: 0.7347\n",
            "Epoch 37/300\n",
            "7/7 [==============================] - 0s 9ms/step - loss: 0.3394 - accuracy: 0.8756 - val_loss: 0.5017 - val_accuracy: 0.7347\n",
            "Epoch 38/300\n",
            "7/7 [==============================] - 0s 6ms/step - loss: 0.3368 - accuracy: 0.8705 - val_loss: 0.5001 - val_accuracy: 0.7347\n",
            "Epoch 39/300\n",
            "7/7 [==============================] - 0s 8ms/step - loss: 0.3338 - accuracy: 0.8705 - val_loss: 0.4986 - val_accuracy: 0.7347\n",
            "Epoch 40/300\n",
            "7/7 [==============================] - 0s 6ms/step - loss: 0.3308 - accuracy: 0.8705 - val_loss: 0.4968 - val_accuracy: 0.7551\n",
            "Epoch 41/300\n",
            "7/7 [==============================] - 0s 6ms/step - loss: 0.3279 - accuracy: 0.8756 - val_loss: 0.4955 - val_accuracy: 0.7551\n",
            "Epoch 42/300\n",
            "7/7 [==============================] - 0s 6ms/step - loss: 0.3247 - accuracy: 0.8860 - val_loss: 0.4956 - val_accuracy: 0.7143\n",
            "Epoch 43/300\n",
            "7/7 [==============================] - 0s 6ms/step - loss: 0.3217 - accuracy: 0.8912 - val_loss: 0.4960 - val_accuracy: 0.7143\n",
            "Epoch 44/300\n",
            "7/7 [==============================] - 0s 6ms/step - loss: 0.3193 - accuracy: 0.8860 - val_loss: 0.4960 - val_accuracy: 0.7143\n",
            "Epoch 45/300\n",
            "7/7 [==============================] - 0s 6ms/step - loss: 0.3170 - accuracy: 0.8808 - val_loss: 0.4949 - val_accuracy: 0.7347\n",
            "Epoch 46/300\n",
            "7/7 [==============================] - 0s 6ms/step - loss: 0.3147 - accuracy: 0.8860 - val_loss: 0.4934 - val_accuracy: 0.7551\n",
            "Epoch 47/300\n",
            "7/7 [==============================] - 0s 6ms/step - loss: 0.3125 - accuracy: 0.8808 - val_loss: 0.4925 - val_accuracy: 0.7755\n",
            "Epoch 48/300\n",
            "7/7 [==============================] - 0s 6ms/step - loss: 0.3119 - accuracy: 0.8756 - val_loss: 0.4915 - val_accuracy: 0.7755\n",
            "Epoch 49/300\n",
            "7/7 [==============================] - 0s 8ms/step - loss: 0.3101 - accuracy: 0.8756 - val_loss: 0.4904 - val_accuracy: 0.7755\n",
            "Epoch 50/300\n",
            "7/7 [==============================] - 0s 6ms/step - loss: 0.3081 - accuracy: 0.8756 - val_loss: 0.4888 - val_accuracy: 0.7755\n",
            "Epoch 51/300\n",
            "7/7 [==============================] - 0s 5ms/step - loss: 0.3061 - accuracy: 0.8808 - val_loss: 0.4876 - val_accuracy: 0.7755\n",
            "Epoch 52/300\n",
            "7/7 [==============================] - 0s 6ms/step - loss: 0.3043 - accuracy: 0.8756 - val_loss: 0.4867 - val_accuracy: 0.7755\n",
            "Epoch 53/300\n",
            "7/7 [==============================] - 0s 6ms/step - loss: 0.3026 - accuracy: 0.8808 - val_loss: 0.4857 - val_accuracy: 0.7755\n",
            "Epoch 54/300\n",
            "7/7 [==============================] - 0s 6ms/step - loss: 0.3007 - accuracy: 0.8808 - val_loss: 0.4848 - val_accuracy: 0.7755\n",
            "Epoch 55/300\n",
            "7/7 [==============================] - 0s 6ms/step - loss: 0.2990 - accuracy: 0.8808 - val_loss: 0.4840 - val_accuracy: 0.7755\n",
            "Epoch 56/300\n",
            "7/7 [==============================] - 0s 6ms/step - loss: 0.2975 - accuracy: 0.8808 - val_loss: 0.4832 - val_accuracy: 0.7755\n",
            "Epoch 57/300\n",
            "7/7 [==============================] - 0s 6ms/step - loss: 0.2959 - accuracy: 0.8860 - val_loss: 0.4823 - val_accuracy: 0.7755\n",
            "Epoch 58/300\n",
            "7/7 [==============================] - 0s 7ms/step - loss: 0.2945 - accuracy: 0.8860 - val_loss: 0.4817 - val_accuracy: 0.7755\n",
            "Epoch 59/300\n",
            "7/7 [==============================] - 0s 6ms/step - loss: 0.2930 - accuracy: 0.8860 - val_loss: 0.4812 - val_accuracy: 0.7755\n",
            "Epoch 60/300\n",
            "7/7 [==============================] - 0s 6ms/step - loss: 0.2915 - accuracy: 0.8860 - val_loss: 0.4806 - val_accuracy: 0.7755\n",
            "Epoch 61/300\n",
            "7/7 [==============================] - 0s 6ms/step - loss: 0.2903 - accuracy: 0.8860 - val_loss: 0.4800 - val_accuracy: 0.7755\n",
            "Epoch 62/300\n",
            "7/7 [==============================] - 0s 6ms/step - loss: 0.2889 - accuracy: 0.8912 - val_loss: 0.4793 - val_accuracy: 0.7755\n",
            "Epoch 63/300\n",
            "7/7 [==============================] - 0s 6ms/step - loss: 0.2876 - accuracy: 0.8912 - val_loss: 0.4786 - val_accuracy: 0.7755\n",
            "Epoch 64/300\n",
            "7/7 [==============================] - 0s 6ms/step - loss: 0.2864 - accuracy: 0.8912 - val_loss: 0.4782 - val_accuracy: 0.7755\n",
            "Epoch 65/300\n",
            "7/7 [==============================] - 0s 6ms/step - loss: 0.2850 - accuracy: 0.8912 - val_loss: 0.4784 - val_accuracy: 0.7755\n",
            "Epoch 66/300\n",
            "7/7 [==============================] - 0s 6ms/step - loss: 0.2842 - accuracy: 0.8912 - val_loss: 0.4789 - val_accuracy: 0.7755\n",
            "Epoch 67/300\n",
            "7/7 [==============================] - 0s 6ms/step - loss: 0.2843 - accuracy: 0.8860 - val_loss: 0.4791 - val_accuracy: 0.7755\n",
            "Epoch 68/300\n",
            "7/7 [==============================] - 0s 6ms/step - loss: 0.2852 - accuracy: 0.8912 - val_loss: 0.4795 - val_accuracy: 0.7347\n",
            "Epoch 69/300\n",
            "7/7 [==============================] - 0s 6ms/step - loss: 0.2859 - accuracy: 0.8756 - val_loss: 0.4797 - val_accuracy: 0.7755\n",
            "Epoch 70/300\n",
            "7/7 [==============================] - 0s 6ms/step - loss: 0.2859 - accuracy: 0.8705 - val_loss: 0.4793 - val_accuracy: 0.7755\n",
            "Epoch 71/300\n",
            "7/7 [==============================] - 0s 6ms/step - loss: 0.2851 - accuracy: 0.8705 - val_loss: 0.4779 - val_accuracy: 0.7347\n",
            "Epoch 72/300\n",
            "7/7 [==============================] - 0s 6ms/step - loss: 0.2829 - accuracy: 0.8756 - val_loss: 0.4767 - val_accuracy: 0.7755\n",
            "Epoch 73/300\n",
            "7/7 [==============================] - 0s 6ms/step - loss: 0.2797 - accuracy: 0.8860 - val_loss: 0.4764 - val_accuracy: 0.7755\n",
            "Epoch 74/300\n",
            "7/7 [==============================] - 0s 8ms/step - loss: 0.2778 - accuracy: 0.8912 - val_loss: 0.4790 - val_accuracy: 0.7755\n",
            "Epoch 75/300\n",
            "7/7 [==============================] - 0s 6ms/step - loss: 0.2767 - accuracy: 0.8860 - val_loss: 0.4806 - val_accuracy: 0.7755\n",
            "Epoch 76/300\n",
            "7/7 [==============================] - 0s 6ms/step - loss: 0.2757 - accuracy: 0.8912 - val_loss: 0.4810 - val_accuracy: 0.7755\n",
            "Epoch 77/300\n",
            "7/7 [==============================] - 0s 6ms/step - loss: 0.2749 - accuracy: 0.8912 - val_loss: 0.4810 - val_accuracy: 0.7755\n",
            "Epoch 78/300\n",
            "7/7 [==============================] - 0s 6ms/step - loss: 0.2742 - accuracy: 0.8912 - val_loss: 0.4811 - val_accuracy: 0.7755\n",
            "Epoch 79/300\n",
            "7/7 [==============================] - 0s 6ms/step - loss: 0.2738 - accuracy: 0.8912 - val_loss: 0.4800 - val_accuracy: 0.7755\n",
            "Epoch 80/300\n",
            "7/7 [==============================] - 0s 6ms/step - loss: 0.2726 - accuracy: 0.8912 - val_loss: 0.4792 - val_accuracy: 0.7755\n",
            "Epoch 81/300\n",
            "7/7 [==============================] - 0s 6ms/step - loss: 0.2718 - accuracy: 0.8912 - val_loss: 0.4790 - val_accuracy: 0.7755\n",
            "Epoch 82/300\n",
            "7/7 [==============================] - 0s 6ms/step - loss: 0.2713 - accuracy: 0.8912 - val_loss: 0.4787 - val_accuracy: 0.7755\n",
            "Epoch 83/300\n",
            "7/7 [==============================] - 0s 6ms/step - loss: 0.2699 - accuracy: 0.8912 - val_loss: 0.4772 - val_accuracy: 0.7755\n",
            "Epoch 84/300\n",
            "7/7 [==============================] - 0s 6ms/step - loss: 0.2688 - accuracy: 0.8964 - val_loss: 0.4765 - val_accuracy: 0.7755\n",
            "Epoch 85/300\n",
            "7/7 [==============================] - 0s 7ms/step - loss: 0.2678 - accuracy: 0.8964 - val_loss: 0.4760 - val_accuracy: 0.7755\n",
            "Epoch 86/300\n",
            "7/7 [==============================] - 0s 6ms/step - loss: 0.2669 - accuracy: 0.8964 - val_loss: 0.4757 - val_accuracy: 0.7755\n",
            "Epoch 87/300\n",
            "7/7 [==============================] - 0s 7ms/step - loss: 0.2660 - accuracy: 0.8964 - val_loss: 0.4755 - val_accuracy: 0.7755\n",
            "Epoch 88/300\n",
            "7/7 [==============================] - 0s 6ms/step - loss: 0.2652 - accuracy: 0.8964 - val_loss: 0.4752 - val_accuracy: 0.7755\n",
            "Epoch 89/300\n",
            "7/7 [==============================] - 0s 6ms/step - loss: 0.2642 - accuracy: 0.8964 - val_loss: 0.4749 - val_accuracy: 0.7755\n",
            "Epoch 90/300\n",
            "7/7 [==============================] - 0s 6ms/step - loss: 0.2635 - accuracy: 0.8964 - val_loss: 0.4747 - val_accuracy: 0.7755\n",
            "Epoch 91/300\n",
            "7/7 [==============================] - 0s 6ms/step - loss: 0.2629 - accuracy: 0.8964 - val_loss: 0.4745 - val_accuracy: 0.7755\n",
            "Epoch 92/300\n",
            "7/7 [==============================] - 0s 9ms/step - loss: 0.2619 - accuracy: 0.8964 - val_loss: 0.4741 - val_accuracy: 0.7755\n",
            "Epoch 93/300\n",
            "7/7 [==============================] - 0s 6ms/step - loss: 0.2612 - accuracy: 0.8964 - val_loss: 0.4733 - val_accuracy: 0.7755\n",
            "Epoch 94/300\n",
            "7/7 [==============================] - 0s 6ms/step - loss: 0.2603 - accuracy: 0.8964 - val_loss: 0.4714 - val_accuracy: 0.7755\n",
            "Epoch 95/300\n",
            "7/7 [==============================] - 0s 9ms/step - loss: 0.2598 - accuracy: 0.9016 - val_loss: 0.4705 - val_accuracy: 0.7755\n",
            "Epoch 96/300\n",
            "7/7 [==============================] - 0s 6ms/step - loss: 0.2594 - accuracy: 0.8964 - val_loss: 0.4699 - val_accuracy: 0.7755\n",
            "Epoch 97/300\n",
            "7/7 [==============================] - 0s 6ms/step - loss: 0.2585 - accuracy: 0.8964 - val_loss: 0.4697 - val_accuracy: 0.7755\n",
            "Epoch 98/300\n",
            "7/7 [==============================] - 0s 6ms/step - loss: 0.2579 - accuracy: 0.8964 - val_loss: 0.4701 - val_accuracy: 0.7755\n",
            "Epoch 99/300\n",
            "7/7 [==============================] - 0s 6ms/step - loss: 0.2571 - accuracy: 0.8964 - val_loss: 0.4717 - val_accuracy: 0.7755\n",
            "Epoch 100/300\n",
            "7/7 [==============================] - 0s 6ms/step - loss: 0.2564 - accuracy: 0.8964 - val_loss: 0.4728 - val_accuracy: 0.7755\n",
            "Epoch 101/300\n",
            "7/7 [==============================] - 0s 6ms/step - loss: 0.2556 - accuracy: 0.8964 - val_loss: 0.4731 - val_accuracy: 0.7755\n",
            "Epoch 102/300\n",
            "7/7 [==============================] - 0s 6ms/step - loss: 0.2547 - accuracy: 0.8964 - val_loss: 0.4728 - val_accuracy: 0.7755\n",
            "Epoch 103/300\n",
            "7/7 [==============================] - 0s 6ms/step - loss: 0.2546 - accuracy: 0.8964 - val_loss: 0.4712 - val_accuracy: 0.7755\n",
            "Epoch 104/300\n",
            "7/7 [==============================] - 0s 7ms/step - loss: 0.2536 - accuracy: 0.8964 - val_loss: 0.4703 - val_accuracy: 0.7755\n",
            "Epoch 105/300\n",
            "7/7 [==============================] - 0s 6ms/step - loss: 0.2533 - accuracy: 0.8964 - val_loss: 0.4696 - val_accuracy: 0.7755\n",
            "Epoch 106/300\n",
            "7/7 [==============================] - 0s 6ms/step - loss: 0.2527 - accuracy: 0.8964 - val_loss: 0.4687 - val_accuracy: 0.7755\n",
            "Epoch 107/300\n",
            "7/7 [==============================] - 0s 6ms/step - loss: 0.2521 - accuracy: 0.8964 - val_loss: 0.4678 - val_accuracy: 0.7755\n",
            "Epoch 108/300\n",
            "7/7 [==============================] - 0s 7ms/step - loss: 0.2516 - accuracy: 0.8964 - val_loss: 0.4674 - val_accuracy: 0.7755\n",
            "Epoch 109/300\n",
            "7/7 [==============================] - 0s 6ms/step - loss: 0.2509 - accuracy: 0.8964 - val_loss: 0.4670 - val_accuracy: 0.7755\n",
            "Epoch 110/300\n",
            "7/7 [==============================] - 0s 6ms/step - loss: 0.2498 - accuracy: 0.8964 - val_loss: 0.4671 - val_accuracy: 0.7755\n",
            "Epoch 111/300\n",
            "7/7 [==============================] - 0s 7ms/step - loss: 0.2486 - accuracy: 0.8964 - val_loss: 0.4683 - val_accuracy: 0.7755\n",
            "Epoch 112/300\n",
            "7/7 [==============================] - 0s 6ms/step - loss: 0.2477 - accuracy: 0.8964 - val_loss: 0.4692 - val_accuracy: 0.7755\n",
            "Epoch 113/300\n",
            "7/7 [==============================] - 0s 6ms/step - loss: 0.2469 - accuracy: 0.9016 - val_loss: 0.4702 - val_accuracy: 0.7755\n",
            "Epoch 114/300\n",
            "7/7 [==============================] - 0s 6ms/step - loss: 0.2464 - accuracy: 0.9016 - val_loss: 0.4720 - val_accuracy: 0.7755\n",
            "Epoch 115/300\n",
            "7/7 [==============================] - 0s 6ms/step - loss: 0.2456 - accuracy: 0.9016 - val_loss: 0.4716 - val_accuracy: 0.7755\n",
            "Epoch 116/300\n",
            "7/7 [==============================] - 0s 6ms/step - loss: 0.2454 - accuracy: 0.9016 - val_loss: 0.4672 - val_accuracy: 0.7755\n",
            "Epoch 117/300\n",
            "7/7 [==============================] - 0s 6ms/step - loss: 0.2445 - accuracy: 0.9016 - val_loss: 0.4654 - val_accuracy: 0.7755\n",
            "Epoch 118/300\n",
            "7/7 [==============================] - 0s 6ms/step - loss: 0.2439 - accuracy: 0.9067 - val_loss: 0.4642 - val_accuracy: 0.7755\n",
            "Epoch 119/300\n",
            "7/7 [==============================] - 0s 6ms/step - loss: 0.2429 - accuracy: 0.9067 - val_loss: 0.4630 - val_accuracy: 0.7551\n",
            "Epoch 120/300\n",
            "7/7 [==============================] - 0s 6ms/step - loss: 0.2431 - accuracy: 0.9119 - val_loss: 0.4623 - val_accuracy: 0.7551\n",
            "Epoch 121/300\n",
            "7/7 [==============================] - 0s 6ms/step - loss: 0.2422 - accuracy: 0.9067 - val_loss: 0.4621 - val_accuracy: 0.7755\n",
            "Epoch 122/300\n",
            "7/7 [==============================] - 0s 6ms/step - loss: 0.2407 - accuracy: 0.9016 - val_loss: 0.4622 - val_accuracy: 0.7755\n",
            "Epoch 123/300\n",
            "7/7 [==============================] - 0s 6ms/step - loss: 0.2400 - accuracy: 0.9016 - val_loss: 0.4626 - val_accuracy: 0.7755\n",
            "Epoch 124/300\n",
            "7/7 [==============================] - 0s 6ms/step - loss: 0.2392 - accuracy: 0.9016 - val_loss: 0.4633 - val_accuracy: 0.7755\n",
            "Epoch 125/300\n",
            "7/7 [==============================] - 0s 6ms/step - loss: 0.2386 - accuracy: 0.8964 - val_loss: 0.4633 - val_accuracy: 0.7755\n",
            "Epoch 126/300\n",
            "7/7 [==============================] - 0s 6ms/step - loss: 0.2375 - accuracy: 0.8964 - val_loss: 0.4634 - val_accuracy: 0.7755\n",
            "Epoch 127/300\n",
            "7/7 [==============================] - 0s 6ms/step - loss: 0.2367 - accuracy: 0.8964 - val_loss: 0.4624 - val_accuracy: 0.7755\n",
            "Epoch 128/300\n",
            "7/7 [==============================] - 0s 6ms/step - loss: 0.2360 - accuracy: 0.8964 - val_loss: 0.4618 - val_accuracy: 0.7755\n",
            "Epoch 129/300\n",
            "7/7 [==============================] - 0s 6ms/step - loss: 0.2352 - accuracy: 0.8964 - val_loss: 0.4619 - val_accuracy: 0.7755\n",
            "Epoch 130/300\n",
            "7/7 [==============================] - 0s 7ms/step - loss: 0.2342 - accuracy: 0.8964 - val_loss: 0.4614 - val_accuracy: 0.7755\n",
            "Epoch 131/300\n",
            "7/7 [==============================] - 0s 6ms/step - loss: 0.2339 - accuracy: 0.8964 - val_loss: 0.4609 - val_accuracy: 0.7755\n",
            "Epoch 132/300\n",
            "7/7 [==============================] - 0s 6ms/step - loss: 0.2336 - accuracy: 0.8964 - val_loss: 0.4601 - val_accuracy: 0.7755\n",
            "Epoch 133/300\n",
            "7/7 [==============================] - 0s 6ms/step - loss: 0.2326 - accuracy: 0.8964 - val_loss: 0.4603 - val_accuracy: 0.7755\n",
            "Epoch 134/300\n",
            "7/7 [==============================] - 0s 6ms/step - loss: 0.2320 - accuracy: 0.8964 - val_loss: 0.4616 - val_accuracy: 0.7755\n",
            "Epoch 135/300\n",
            "7/7 [==============================] - 0s 6ms/step - loss: 0.2307 - accuracy: 0.9016 - val_loss: 0.4643 - val_accuracy: 0.7551\n",
            "Epoch 136/300\n",
            "7/7 [==============================] - 0s 6ms/step - loss: 0.2306 - accuracy: 0.9016 - val_loss: 0.4662 - val_accuracy: 0.7551\n",
            "Epoch 137/300\n",
            "7/7 [==============================] - 0s 6ms/step - loss: 0.2316 - accuracy: 0.9067 - val_loss: 0.4637 - val_accuracy: 0.7551\n",
            "Epoch 138/300\n",
            "7/7 [==============================] - 0s 6ms/step - loss: 0.2302 - accuracy: 0.9119 - val_loss: 0.4578 - val_accuracy: 0.7551\n",
            "Epoch 139/300\n",
            "7/7 [==============================] - 0s 6ms/step - loss: 0.2287 - accuracy: 0.9119 - val_loss: 0.4552 - val_accuracy: 0.7551\n",
            "Epoch 140/300\n",
            "7/7 [==============================] - 0s 6ms/step - loss: 0.2279 - accuracy: 0.9119 - val_loss: 0.4536 - val_accuracy: 0.7551\n",
            "Epoch 141/300\n",
            "7/7 [==============================] - 0s 6ms/step - loss: 0.2273 - accuracy: 0.9067 - val_loss: 0.4530 - val_accuracy: 0.7551\n",
            "Epoch 142/300\n",
            "7/7 [==============================] - 0s 6ms/step - loss: 0.2266 - accuracy: 0.9067 - val_loss: 0.4534 - val_accuracy: 0.7551\n",
            "Epoch 143/300\n",
            "7/7 [==============================] - 0s 6ms/step - loss: 0.2259 - accuracy: 0.9067 - val_loss: 0.4559 - val_accuracy: 0.7551\n",
            "Epoch 144/300\n",
            "7/7 [==============================] - 0s 6ms/step - loss: 0.2250 - accuracy: 0.9067 - val_loss: 0.4608 - val_accuracy: 0.7551\n",
            "Epoch 145/300\n",
            "7/7 [==============================] - 0s 6ms/step - loss: 0.2238 - accuracy: 0.9119 - val_loss: 0.4632 - val_accuracy: 0.7551\n",
            "Epoch 146/300\n",
            "7/7 [==============================] - 0s 7ms/step - loss: 0.2233 - accuracy: 0.9119 - val_loss: 0.4649 - val_accuracy: 0.7551\n",
            "Epoch 147/300\n",
            "7/7 [==============================] - 0s 6ms/step - loss: 0.2227 - accuracy: 0.9119 - val_loss: 0.4661 - val_accuracy: 0.7551\n",
            "Epoch 148/300\n",
            "7/7 [==============================] - 0s 6ms/step - loss: 0.2220 - accuracy: 0.9119 - val_loss: 0.4666 - val_accuracy: 0.7551\n",
            "Epoch 149/300\n",
            "7/7 [==============================] - 0s 7ms/step - loss: 0.2213 - accuracy: 0.9119 - val_loss: 0.4667 - val_accuracy: 0.7551\n",
            "Epoch 150/300\n",
            "7/7 [==============================] - 0s 6ms/step - loss: 0.2207 - accuracy: 0.9119 - val_loss: 0.4665 - val_accuracy: 0.7551\n",
            "Epoch 151/300\n",
            "7/7 [==============================] - 0s 7ms/step - loss: 0.2200 - accuracy: 0.9119 - val_loss: 0.4665 - val_accuracy: 0.7551\n",
            "Epoch 152/300\n",
            "7/7 [==============================] - 0s 6ms/step - loss: 0.2194 - accuracy: 0.9119 - val_loss: 0.4667 - val_accuracy: 0.7551\n",
            "Epoch 153/300\n",
            "7/7 [==============================] - 0s 6ms/step - loss: 0.2187 - accuracy: 0.9119 - val_loss: 0.4669 - val_accuracy: 0.7551\n",
            "Epoch 154/300\n",
            "7/7 [==============================] - 0s 6ms/step - loss: 0.2181 - accuracy: 0.9119 - val_loss: 0.4671 - val_accuracy: 0.7551\n",
            "Epoch 155/300\n",
            "7/7 [==============================] - 0s 7ms/step - loss: 0.2176 - accuracy: 0.9119 - val_loss: 0.4665 - val_accuracy: 0.7551\n",
            "Epoch 156/300\n",
            "7/7 [==============================] - 0s 6ms/step - loss: 0.2173 - accuracy: 0.9119 - val_loss: 0.4629 - val_accuracy: 0.7551\n",
            "Epoch 157/300\n",
            "7/7 [==============================] - 0s 6ms/step - loss: 0.2158 - accuracy: 0.9171 - val_loss: 0.4611 - val_accuracy: 0.7551\n",
            "Epoch 158/300\n",
            "7/7 [==============================] - 0s 6ms/step - loss: 0.2161 - accuracy: 0.9171 - val_loss: 0.4605 - val_accuracy: 0.7551\n",
            "Epoch 159/300\n",
            "7/7 [==============================] - 0s 6ms/step - loss: 0.2157 - accuracy: 0.9171 - val_loss: 0.4603 - val_accuracy: 0.7551\n",
            "Epoch 160/300\n",
            "7/7 [==============================] - 0s 6ms/step - loss: 0.2152 - accuracy: 0.9171 - val_loss: 0.4603 - val_accuracy: 0.7551\n",
            "Epoch 161/300\n",
            "7/7 [==============================] - 0s 6ms/step - loss: 0.2150 - accuracy: 0.9171 - val_loss: 0.4591 - val_accuracy: 0.7551\n",
            "Epoch 162/300\n",
            "7/7 [==============================] - 0s 6ms/step - loss: 0.2152 - accuracy: 0.9171 - val_loss: 0.4593 - val_accuracy: 0.7551\n",
            "Epoch 163/300\n",
            "7/7 [==============================] - 0s 6ms/step - loss: 0.2145 - accuracy: 0.9171 - val_loss: 0.4597 - val_accuracy: 0.7755\n",
            "Epoch 164/300\n",
            "7/7 [==============================] - 0s 6ms/step - loss: 0.2140 - accuracy: 0.9171 - val_loss: 0.4602 - val_accuracy: 0.7959\n",
            "Epoch 165/300\n",
            "7/7 [==============================] - 0s 6ms/step - loss: 0.2136 - accuracy: 0.9171 - val_loss: 0.4606 - val_accuracy: 0.7959\n",
            "Epoch 166/300\n",
            "7/7 [==============================] - 0s 6ms/step - loss: 0.2129 - accuracy: 0.9171 - val_loss: 0.4611 - val_accuracy: 0.7959\n",
            "Epoch 167/300\n",
            "7/7 [==============================] - 0s 6ms/step - loss: 0.2122 - accuracy: 0.9171 - val_loss: 0.4614 - val_accuracy: 0.7755\n",
            "Epoch 168/300\n",
            "7/7 [==============================] - 0s 9ms/step - loss: 0.2115 - accuracy: 0.9171 - val_loss: 0.4605 - val_accuracy: 0.7959\n",
            "Epoch 169/300\n",
            "7/7 [==============================] - 0s 7ms/step - loss: 0.2110 - accuracy: 0.9171 - val_loss: 0.4574 - val_accuracy: 0.7959\n",
            "Epoch 170/300\n",
            "7/7 [==============================] - 0s 6ms/step - loss: 0.2118 - accuracy: 0.9171 - val_loss: 0.4564 - val_accuracy: 0.7959\n",
            "Epoch 171/300\n",
            "7/7 [==============================] - 0s 7ms/step - loss: 0.2110 - accuracy: 0.9171 - val_loss: 0.4567 - val_accuracy: 0.7959\n",
            "Epoch 172/300\n",
            "7/7 [==============================] - 0s 6ms/step - loss: 0.2093 - accuracy: 0.9223 - val_loss: 0.4566 - val_accuracy: 0.7959\n",
            "Epoch 173/300\n",
            "7/7 [==============================] - 0s 6ms/step - loss: 0.2086 - accuracy: 0.9223 - val_loss: 0.4572 - val_accuracy: 0.7755\n",
            "Epoch 174/300\n",
            "7/7 [==============================] - 0s 6ms/step - loss: 0.2076 - accuracy: 0.9275 - val_loss: 0.4581 - val_accuracy: 0.7551\n",
            "Epoch 175/300\n",
            "7/7 [==============================] - 0s 7ms/step - loss: 0.2061 - accuracy: 0.9223 - val_loss: 0.4583 - val_accuracy: 0.7755\n",
            "Epoch 176/300\n",
            "7/7 [==============================] - 0s 6ms/step - loss: 0.2056 - accuracy: 0.9223 - val_loss: 0.4574 - val_accuracy: 0.7755\n",
            "Epoch 177/300\n",
            "7/7 [==============================] - 0s 6ms/step - loss: 0.2047 - accuracy: 0.9223 - val_loss: 0.4579 - val_accuracy: 0.7959\n",
            "Epoch 178/300\n",
            "7/7 [==============================] - 0s 6ms/step - loss: 0.2043 - accuracy: 0.9275 - val_loss: 0.4587 - val_accuracy: 0.7755\n",
            "Epoch 179/300\n",
            "7/7 [==============================] - 0s 6ms/step - loss: 0.2042 - accuracy: 0.9275 - val_loss: 0.4605 - val_accuracy: 0.7755\n",
            "Epoch 180/300\n",
            "7/7 [==============================] - 0s 6ms/step - loss: 0.2033 - accuracy: 0.9275 - val_loss: 0.4602 - val_accuracy: 0.7755\n",
            "Epoch 181/300\n",
            "7/7 [==============================] - 0s 6ms/step - loss: 0.2026 - accuracy: 0.9223 - val_loss: 0.4598 - val_accuracy: 0.7959\n",
            "Epoch 182/300\n",
            "7/7 [==============================] - 0s 6ms/step - loss: 0.2017 - accuracy: 0.9223 - val_loss: 0.4579 - val_accuracy: 0.7959\n",
            "Epoch 183/300\n",
            "7/7 [==============================] - 0s 6ms/step - loss: 0.2021 - accuracy: 0.9275 - val_loss: 0.4569 - val_accuracy: 0.7959\n",
            "Epoch 184/300\n",
            "7/7 [==============================] - 0s 6ms/step - loss: 0.2016 - accuracy: 0.9275 - val_loss: 0.4575 - val_accuracy: 0.8163\n",
            "Epoch 185/300\n",
            "7/7 [==============================] - 0s 6ms/step - loss: 0.2011 - accuracy: 0.9275 - val_loss: 0.4588 - val_accuracy: 0.8163\n",
            "Epoch 186/300\n",
            "7/7 [==============================] - 0s 6ms/step - loss: 0.2001 - accuracy: 0.9275 - val_loss: 0.4594 - val_accuracy: 0.8163\n",
            "Epoch 187/300\n",
            "7/7 [==============================] - 0s 7ms/step - loss: 0.1991 - accuracy: 0.9223 - val_loss: 0.4606 - val_accuracy: 0.7959\n",
            "Epoch 188/300\n",
            "7/7 [==============================] - 0s 6ms/step - loss: 0.1985 - accuracy: 0.9223 - val_loss: 0.4612 - val_accuracy: 0.7959\n",
            "Epoch 189/300\n",
            "7/7 [==============================] - 0s 6ms/step - loss: 0.1981 - accuracy: 0.9223 - val_loss: 0.4605 - val_accuracy: 0.7959\n",
            "Epoch 190/300\n",
            "7/7 [==============================] - 0s 6ms/step - loss: 0.1972 - accuracy: 0.9223 - val_loss: 0.4587 - val_accuracy: 0.7959\n",
            "Epoch 191/300\n",
            "7/7 [==============================] - 0s 6ms/step - loss: 0.1972 - accuracy: 0.9275 - val_loss: 0.4583 - val_accuracy: 0.8163\n",
            "Epoch 192/300\n",
            "7/7 [==============================] - 0s 7ms/step - loss: 0.1965 - accuracy: 0.9275 - val_loss: 0.4572 - val_accuracy: 0.7959\n",
            "Epoch 193/300\n",
            "7/7 [==============================] - 0s 9ms/step - loss: 0.1963 - accuracy: 0.9275 - val_loss: 0.4521 - val_accuracy: 0.8163\n",
            "Epoch 194/300\n",
            "7/7 [==============================] - 0s 6ms/step - loss: 0.1961 - accuracy: 0.9171 - val_loss: 0.4509 - val_accuracy: 0.8163\n",
            "Epoch 195/300\n",
            "7/7 [==============================] - 0s 6ms/step - loss: 0.1962 - accuracy: 0.9119 - val_loss: 0.4512 - val_accuracy: 0.7959\n",
            "Epoch 196/300\n",
            "7/7 [==============================] - 0s 7ms/step - loss: 0.1959 - accuracy: 0.9119 - val_loss: 0.4531 - val_accuracy: 0.7959\n",
            "Epoch 197/300\n",
            "7/7 [==============================] - 0s 6ms/step - loss: 0.1957 - accuracy: 0.9119 - val_loss: 0.4541 - val_accuracy: 0.7959\n",
            "Epoch 198/300\n",
            "7/7 [==============================] - 0s 6ms/step - loss: 0.1950 - accuracy: 0.9119 - val_loss: 0.4554 - val_accuracy: 0.7959\n",
            "Epoch 199/300\n",
            "7/7 [==============================] - 0s 6ms/step - loss: 0.1944 - accuracy: 0.9119 - val_loss: 0.4567 - val_accuracy: 0.8163\n",
            "Epoch 200/300\n",
            "7/7 [==============================] - 0s 6ms/step - loss: 0.1935 - accuracy: 0.9119 - val_loss: 0.4570 - val_accuracy: 0.8163\n",
            "Epoch 201/300\n",
            "7/7 [==============================] - 0s 6ms/step - loss: 0.1928 - accuracy: 0.9171 - val_loss: 0.4571 - val_accuracy: 0.8163\n",
            "Epoch 202/300\n",
            "7/7 [==============================] - 0s 7ms/step - loss: 0.1923 - accuracy: 0.9171 - val_loss: 0.4589 - val_accuracy: 0.7959\n",
            "Epoch 203/300\n",
            "7/7 [==============================] - 0s 6ms/step - loss: 0.1919 - accuracy: 0.9223 - val_loss: 0.4597 - val_accuracy: 0.7959\n",
            "Epoch 204/300\n",
            "7/7 [==============================] - 0s 6ms/step - loss: 0.1918 - accuracy: 0.9171 - val_loss: 0.4598 - val_accuracy: 0.8163\n",
            "Epoch 205/300\n",
            "7/7 [==============================] - 0s 7ms/step - loss: 0.1908 - accuracy: 0.9171 - val_loss: 0.4609 - val_accuracy: 0.7959\n",
            "Epoch 206/300\n",
            "7/7 [==============================] - 0s 6ms/step - loss: 0.1916 - accuracy: 0.9275 - val_loss: 0.4652 - val_accuracy: 0.7959\n",
            "Epoch 207/300\n",
            "7/7 [==============================] - 0s 6ms/step - loss: 0.1900 - accuracy: 0.9223 - val_loss: 0.4698 - val_accuracy: 0.7959\n",
            "Epoch 208/300\n",
            "7/7 [==============================] - 0s 7ms/step - loss: 0.1900 - accuracy: 0.9223 - val_loss: 0.4711 - val_accuracy: 0.7959\n",
            "Epoch 209/300\n",
            "7/7 [==============================] - 0s 6ms/step - loss: 0.1891 - accuracy: 0.9223 - val_loss: 0.4708 - val_accuracy: 0.7959\n",
            "Epoch 210/300\n",
            "7/7 [==============================] - 0s 6ms/step - loss: 0.1881 - accuracy: 0.9223 - val_loss: 0.4679 - val_accuracy: 0.7959\n",
            "Epoch 211/300\n",
            "7/7 [==============================] - 0s 6ms/step - loss: 0.1881 - accuracy: 0.9223 - val_loss: 0.4667 - val_accuracy: 0.7959\n",
            "Epoch 212/300\n",
            "7/7 [==============================] - 0s 6ms/step - loss: 0.1877 - accuracy: 0.9275 - val_loss: 0.4661 - val_accuracy: 0.7959\n",
            "Epoch 213/300\n",
            "7/7 [==============================] - 0s 7ms/step - loss: 0.1874 - accuracy: 0.9275 - val_loss: 0.4673 - val_accuracy: 0.7959\n",
            "Epoch 214/300\n",
            "7/7 [==============================] - 0s 6ms/step - loss: 0.1872 - accuracy: 0.9223 - val_loss: 0.4675 - val_accuracy: 0.7959\n",
            "Epoch 215/300\n",
            "7/7 [==============================] - 0s 7ms/step - loss: 0.1864 - accuracy: 0.9275 - val_loss: 0.4676 - val_accuracy: 0.7959\n",
            "Epoch 216/300\n",
            "7/7 [==============================] - 0s 7ms/step - loss: 0.1856 - accuracy: 0.9326 - val_loss: 0.4687 - val_accuracy: 0.7959\n",
            "Epoch 217/300\n",
            "7/7 [==============================] - 0s 6ms/step - loss: 0.1852 - accuracy: 0.9326 - val_loss: 0.4696 - val_accuracy: 0.7959\n",
            "Epoch 218/300\n",
            "7/7 [==============================] - 0s 6ms/step - loss: 0.1844 - accuracy: 0.9326 - val_loss: 0.4692 - val_accuracy: 0.7959\n",
            "Epoch 219/300\n",
            "7/7 [==============================] - 0s 6ms/step - loss: 0.1835 - accuracy: 0.9326 - val_loss: 0.4688 - val_accuracy: 0.8163\n",
            "Epoch 220/300\n",
            "7/7 [==============================] - 0s 7ms/step - loss: 0.1829 - accuracy: 0.9275 - val_loss: 0.4686 - val_accuracy: 0.8163\n",
            "Epoch 221/300\n",
            "7/7 [==============================] - 0s 6ms/step - loss: 0.1823 - accuracy: 0.9223 - val_loss: 0.4688 - val_accuracy: 0.8163\n",
            "Epoch 222/300\n",
            "7/7 [==============================] - 0s 6ms/step - loss: 0.1818 - accuracy: 0.9223 - val_loss: 0.4689 - val_accuracy: 0.8163\n",
            "Epoch 223/300\n",
            "7/7 [==============================] - 0s 6ms/step - loss: 0.1814 - accuracy: 0.9223 - val_loss: 0.4689 - val_accuracy: 0.8163\n",
            "Epoch 224/300\n",
            "7/7 [==============================] - 0s 7ms/step - loss: 0.1808 - accuracy: 0.9223 - val_loss: 0.4691 - val_accuracy: 0.8163\n",
            "Epoch 225/300\n",
            "7/7 [==============================] - 0s 6ms/step - loss: 0.1804 - accuracy: 0.9223 - val_loss: 0.4684 - val_accuracy: 0.8163\n",
            "Epoch 226/300\n",
            "7/7 [==============================] - 0s 6ms/step - loss: 0.1800 - accuracy: 0.9223 - val_loss: 0.4666 - val_accuracy: 0.7959\n",
            "Epoch 227/300\n",
            "7/7 [==============================] - 0s 6ms/step - loss: 0.1798 - accuracy: 0.9275 - val_loss: 0.4608 - val_accuracy: 0.8163\n",
            "Epoch 228/300\n",
            "7/7 [==============================] - 0s 6ms/step - loss: 0.1811 - accuracy: 0.9326 - val_loss: 0.4576 - val_accuracy: 0.8163\n",
            "Epoch 229/300\n",
            "7/7 [==============================] - 0s 6ms/step - loss: 0.1815 - accuracy: 0.9326 - val_loss: 0.4568 - val_accuracy: 0.8163\n",
            "Epoch 230/300\n",
            "7/7 [==============================] - 0s 6ms/step - loss: 0.1814 - accuracy: 0.9326 - val_loss: 0.4580 - val_accuracy: 0.8163\n",
            "Epoch 231/300\n",
            "7/7 [==============================] - 0s 8ms/step - loss: 0.1807 - accuracy: 0.9326 - val_loss: 0.4588 - val_accuracy: 0.8163\n",
            "Epoch 232/300\n",
            "7/7 [==============================] - 0s 6ms/step - loss: 0.1798 - accuracy: 0.9326 - val_loss: 0.4603 - val_accuracy: 0.8163\n",
            "Epoch 233/300\n",
            "7/7 [==============================] - 0s 6ms/step - loss: 0.1794 - accuracy: 0.9326 - val_loss: 0.4652 - val_accuracy: 0.8163\n",
            "Epoch 234/300\n",
            "7/7 [==============================] - 0s 6ms/step - loss: 0.1794 - accuracy: 0.9378 - val_loss: 0.4668 - val_accuracy: 0.8163\n",
            "Epoch 235/300\n",
            "7/7 [==============================] - 0s 6ms/step - loss: 0.1791 - accuracy: 0.9378 - val_loss: 0.4676 - val_accuracy: 0.8163\n",
            "Epoch 236/300\n",
            "7/7 [==============================] - 0s 6ms/step - loss: 0.1782 - accuracy: 0.9378 - val_loss: 0.4680 - val_accuracy: 0.8163\n",
            "Epoch 237/300\n",
            "7/7 [==============================] - 0s 6ms/step - loss: 0.1775 - accuracy: 0.9378 - val_loss: 0.4685 - val_accuracy: 0.8163\n",
            "Epoch 238/300\n",
            "7/7 [==============================] - 0s 7ms/step - loss: 0.1768 - accuracy: 0.9378 - val_loss: 0.4691 - val_accuracy: 0.8163\n",
            "Epoch 239/300\n",
            "7/7 [==============================] - 0s 6ms/step - loss: 0.1763 - accuracy: 0.9378 - val_loss: 0.4695 - val_accuracy: 0.8163\n",
            "Epoch 240/300\n",
            "7/7 [==============================] - 0s 6ms/step - loss: 0.1753 - accuracy: 0.9378 - val_loss: 0.4701 - val_accuracy: 0.8163\n",
            "Epoch 241/300\n",
            "7/7 [==============================] - 0s 6ms/step - loss: 0.1746 - accuracy: 0.9378 - val_loss: 0.4704 - val_accuracy: 0.8163\n",
            "Epoch 242/300\n",
            "7/7 [==============================] - 0s 6ms/step - loss: 0.1741 - accuracy: 0.9378 - val_loss: 0.4702 - val_accuracy: 0.8163\n",
            "Epoch 243/300\n",
            "7/7 [==============================] - 0s 7ms/step - loss: 0.1738 - accuracy: 0.9378 - val_loss: 0.4710 - val_accuracy: 0.8163\n",
            "Epoch 244/300\n",
            "7/7 [==============================] - 0s 7ms/step - loss: 0.1731 - accuracy: 0.9326 - val_loss: 0.4709 - val_accuracy: 0.8163\n",
            "Epoch 245/300\n",
            "7/7 [==============================] - 0s 6ms/step - loss: 0.1724 - accuracy: 0.9326 - val_loss: 0.4708 - val_accuracy: 0.8163\n",
            "Epoch 246/300\n",
            "7/7 [==============================] - 0s 6ms/step - loss: 0.1718 - accuracy: 0.9326 - val_loss: 0.4710 - val_accuracy: 0.8163\n",
            "Epoch 247/300\n",
            "7/7 [==============================] - 0s 6ms/step - loss: 0.1712 - accuracy: 0.9326 - val_loss: 0.4705 - val_accuracy: 0.8163\n",
            "Epoch 248/300\n",
            "7/7 [==============================] - 0s 6ms/step - loss: 0.1714 - accuracy: 0.9378 - val_loss: 0.4693 - val_accuracy: 0.8163\n",
            "Epoch 249/300\n",
            "7/7 [==============================] - 0s 8ms/step - loss: 0.1715 - accuracy: 0.9378 - val_loss: 0.4706 - val_accuracy: 0.8163\n",
            "Epoch 250/300\n",
            "7/7 [==============================] - 0s 7ms/step - loss: 0.1712 - accuracy: 0.9326 - val_loss: 0.4725 - val_accuracy: 0.8163\n",
            "Epoch 251/300\n",
            "7/7 [==============================] - 0s 7ms/step - loss: 0.1695 - accuracy: 0.9326 - val_loss: 0.4734 - val_accuracy: 0.8163\n",
            "Epoch 252/300\n",
            "7/7 [==============================] - 0s 6ms/step - loss: 0.1690 - accuracy: 0.9326 - val_loss: 0.4741 - val_accuracy: 0.8163\n",
            "Epoch 253/300\n",
            "7/7 [==============================] - 0s 6ms/step - loss: 0.1685 - accuracy: 0.9326 - val_loss: 0.4753 - val_accuracy: 0.7959\n",
            "Epoch 254/300\n",
            "7/7 [==============================] - 0s 7ms/step - loss: 0.1679 - accuracy: 0.9326 - val_loss: 0.4758 - val_accuracy: 0.7959\n",
            "Epoch 255/300\n",
            "7/7 [==============================] - 0s 6ms/step - loss: 0.1675 - accuracy: 0.9326 - val_loss: 0.4761 - val_accuracy: 0.7959\n",
            "Epoch 256/300\n",
            "7/7 [==============================] - 0s 6ms/step - loss: 0.1670 - accuracy: 0.9326 - val_loss: 0.4761 - val_accuracy: 0.7959\n",
            "Epoch 257/300\n",
            "7/7 [==============================] - 0s 6ms/step - loss: 0.1665 - accuracy: 0.9326 - val_loss: 0.4762 - val_accuracy: 0.7959\n",
            "Epoch 258/300\n",
            "7/7 [==============================] - 0s 6ms/step - loss: 0.1661 - accuracy: 0.9326 - val_loss: 0.4779 - val_accuracy: 0.7959\n",
            "Epoch 259/300\n",
            "7/7 [==============================] - 0s 6ms/step - loss: 0.1660 - accuracy: 0.9326 - val_loss: 0.4788 - val_accuracy: 0.7959\n",
            "Epoch 260/300\n",
            "7/7 [==============================] - 0s 6ms/step - loss: 0.1657 - accuracy: 0.9275 - val_loss: 0.4785 - val_accuracy: 0.7959\n",
            "Epoch 261/300\n",
            "7/7 [==============================] - 0s 6ms/step - loss: 0.1652 - accuracy: 0.9326 - val_loss: 0.4786 - val_accuracy: 0.7959\n",
            "Epoch 262/300\n",
            "7/7 [==============================] - 0s 6ms/step - loss: 0.1645 - accuracy: 0.9275 - val_loss: 0.4787 - val_accuracy: 0.7959\n",
            "Epoch 263/300\n",
            "7/7 [==============================] - 0s 7ms/step - loss: 0.1638 - accuracy: 0.9326 - val_loss: 0.4793 - val_accuracy: 0.7959\n",
            "Epoch 264/300\n",
            "7/7 [==============================] - 0s 6ms/step - loss: 0.1633 - accuracy: 0.9326 - val_loss: 0.4786 - val_accuracy: 0.7959\n",
            "Epoch 265/300\n",
            "7/7 [==============================] - 0s 6ms/step - loss: 0.1627 - accuracy: 0.9378 - val_loss: 0.4745 - val_accuracy: 0.8163\n",
            "Epoch 266/300\n",
            "7/7 [==============================] - 0s 7ms/step - loss: 0.1647 - accuracy: 0.9326 - val_loss: 0.4734 - val_accuracy: 0.8163\n",
            "Epoch 267/300\n",
            "7/7 [==============================] - 0s 7ms/step - loss: 0.1643 - accuracy: 0.9378 - val_loss: 0.4718 - val_accuracy: 0.8163\n",
            "Epoch 268/300\n",
            "7/7 [==============================] - 0s 6ms/step - loss: 0.1644 - accuracy: 0.9326 - val_loss: 0.4693 - val_accuracy: 0.8163\n",
            "Epoch 269/300\n",
            "7/7 [==============================] - 0s 7ms/step - loss: 0.1645 - accuracy: 0.9326 - val_loss: 0.4676 - val_accuracy: 0.8163\n",
            "Epoch 270/300\n",
            "7/7 [==============================] - 0s 7ms/step - loss: 0.1635 - accuracy: 0.9378 - val_loss: 0.4663 - val_accuracy: 0.8163\n",
            "Epoch 271/300\n",
            "7/7 [==============================] - 0s 7ms/step - loss: 0.1634 - accuracy: 0.9378 - val_loss: 0.4659 - val_accuracy: 0.8163\n",
            "Epoch 272/300\n",
            "7/7 [==============================] - 0s 7ms/step - loss: 0.1638 - accuracy: 0.9326 - val_loss: 0.4655 - val_accuracy: 0.8163\n",
            "Epoch 273/300\n",
            "7/7 [==============================] - 0s 7ms/step - loss: 0.1631 - accuracy: 0.9378 - val_loss: 0.4651 - val_accuracy: 0.8163\n",
            "Epoch 274/300\n",
            "7/7 [==============================] - 0s 6ms/step - loss: 0.1624 - accuracy: 0.9326 - val_loss: 0.4683 - val_accuracy: 0.8163\n",
            "Epoch 275/300\n",
            "7/7 [==============================] - 0s 7ms/step - loss: 0.1620 - accuracy: 0.9326 - val_loss: 0.4696 - val_accuracy: 0.8163\n",
            "Epoch 276/300\n",
            "7/7 [==============================] - 0s 9ms/step - loss: 0.1617 - accuracy: 0.9378 - val_loss: 0.4714 - val_accuracy: 0.7959\n",
            "Epoch 277/300\n",
            "7/7 [==============================] - 0s 8ms/step - loss: 0.1612 - accuracy: 0.9378 - val_loss: 0.4717 - val_accuracy: 0.7959\n",
            "Epoch 278/300\n",
            "7/7 [==============================] - 0s 9ms/step - loss: 0.1605 - accuracy: 0.9378 - val_loss: 0.4735 - val_accuracy: 0.7959\n",
            "Epoch 279/300\n",
            "7/7 [==============================] - 0s 6ms/step - loss: 0.1601 - accuracy: 0.9378 - val_loss: 0.4736 - val_accuracy: 0.8163\n",
            "Epoch 280/300\n",
            "7/7 [==============================] - 0s 7ms/step - loss: 0.1592 - accuracy: 0.9378 - val_loss: 0.4718 - val_accuracy: 0.8163\n",
            "Epoch 281/300\n",
            "7/7 [==============================] - 0s 7ms/step - loss: 0.1580 - accuracy: 0.9430 - val_loss: 0.4689 - val_accuracy: 0.8163\n",
            "Epoch 282/300\n",
            "7/7 [==============================] - 0s 6ms/step - loss: 0.1573 - accuracy: 0.9430 - val_loss: 0.4683 - val_accuracy: 0.8163\n",
            "Epoch 283/300\n",
            "7/7 [==============================] - 0s 7ms/step - loss: 0.1567 - accuracy: 0.9430 - val_loss: 0.4686 - val_accuracy: 0.8163\n",
            "Epoch 284/300\n",
            "7/7 [==============================] - 0s 7ms/step - loss: 0.1559 - accuracy: 0.9430 - val_loss: 0.4700 - val_accuracy: 0.8163\n",
            "Epoch 285/300\n",
            "7/7 [==============================] - 0s 9ms/step - loss: 0.1553 - accuracy: 0.9430 - val_loss: 0.4718 - val_accuracy: 0.8163\n",
            "Epoch 286/300\n",
            "7/7 [==============================] - 0s 7ms/step - loss: 0.1558 - accuracy: 0.9378 - val_loss: 0.4747 - val_accuracy: 0.8163\n",
            "Epoch 287/300\n",
            "7/7 [==============================] - 0s 6ms/step - loss: 0.1553 - accuracy: 0.9378 - val_loss: 0.4759 - val_accuracy: 0.8163\n",
            "Epoch 288/300\n",
            "7/7 [==============================] - 0s 7ms/step - loss: 0.1562 - accuracy: 0.9430 - val_loss: 0.4754 - val_accuracy: 0.7959\n",
            "Epoch 289/300\n",
            "7/7 [==============================] - 0s 6ms/step - loss: 0.1573 - accuracy: 0.9378 - val_loss: 0.4740 - val_accuracy: 0.7959\n",
            "Epoch 290/300\n",
            "7/7 [==============================] - 0s 8ms/step - loss: 0.1573 - accuracy: 0.9378 - val_loss: 0.4729 - val_accuracy: 0.8163\n",
            "Epoch 291/300\n",
            "7/7 [==============================] - 0s 6ms/step - loss: 0.1562 - accuracy: 0.9378 - val_loss: 0.4716 - val_accuracy: 0.8163\n",
            "Epoch 292/300\n",
            "7/7 [==============================] - 0s 7ms/step - loss: 0.1552 - accuracy: 0.9378 - val_loss: 0.4717 - val_accuracy: 0.8163\n",
            "Epoch 293/300\n",
            "7/7 [==============================] - 0s 7ms/step - loss: 0.1548 - accuracy: 0.9378 - val_loss: 0.4718 - val_accuracy: 0.8163\n",
            "Epoch 294/300\n",
            "7/7 [==============================] - 0s 6ms/step - loss: 0.1540 - accuracy: 0.9378 - val_loss: 0.4744 - val_accuracy: 0.8163\n",
            "Epoch 295/300\n",
            "7/7 [==============================] - 0s 6ms/step - loss: 0.1538 - accuracy: 0.9378 - val_loss: 0.4771 - val_accuracy: 0.8163\n",
            "Epoch 296/300\n",
            "7/7 [==============================] - 0s 7ms/step - loss: 0.1533 - accuracy: 0.9378 - val_loss: 0.4783 - val_accuracy: 0.8163\n",
            "Epoch 297/300\n",
            "7/7 [==============================] - 0s 7ms/step - loss: 0.1527 - accuracy: 0.9378 - val_loss: 0.4787 - val_accuracy: 0.8163\n",
            "Epoch 298/300\n",
            "7/7 [==============================] - 0s 6ms/step - loss: 0.1520 - accuracy: 0.9430 - val_loss: 0.4790 - val_accuracy: 0.8163\n",
            "Epoch 299/300\n",
            "7/7 [==============================] - 0s 7ms/step - loss: 0.1514 - accuracy: 0.9378 - val_loss: 0.4790 - val_accuracy: 0.8163\n",
            "Epoch 300/300\n",
            "7/7 [==============================] - 0s 6ms/step - loss: 0.1504 - accuracy: 0.9378 - val_loss: 0.4798 - val_accuracy: 0.8163\n"
          ]
        }
      ],
      "source": [
        "history = model.fit(train_X,\n",
        "                    train_y,\n",
        "                    epochs=300,\n",
        "                    batch_size=32,\n",
        "                    validation_split=0.2)"
      ]
    },
    {
      "cell_type": "markdown",
      "source": [
        "Let's plot the training and loss curves to see if ***overfitting*** is going on and if **early stopping** may be needed."
      ],
      "metadata": {
        "id": "fcSh9odtRzSX"
      }
    },
    {
      "cell_type": "code",
      "source": [
        "history_dict = history.history\n",
        "history_dict.keys()"
      ],
      "metadata": {
        "colab": {
          "base_uri": "https://localhost:8080/"
        },
        "id": "p507juxRR29_",
        "outputId": "7b8750a4-f75c-4e0f-bf85-521555c18a7b"
      },
      "execution_count": null,
      "outputs": [
        {
          "output_type": "execute_result",
          "data": {
            "text/plain": [
              "dict_keys(['loss', 'accuracy', 'val_loss', 'val_accuracy'])"
            ]
          },
          "metadata": {},
          "execution_count": 26
        }
      ]
    },
    {
      "cell_type": "code",
      "source": [
        "loss_values = history_dict[\"loss\"]\n",
        "val_loss_values = history_dict[\"val_loss\"]\n",
        "epochs = range(1, len(loss_values) + 1)\n",
        "plt.plot(epochs, loss_values, \"bo\", label=\"Training loss\")\n",
        "plt.plot(epochs, val_loss_values, \"b\", label=\"Validation loss\")\n",
        "plt.title(\"Training and validation loss\")\n",
        "plt.xlabel(\"Epochs\")\n",
        "plt.ylabel(\"Loss\")\n",
        "plt.legend()\n",
        "plt.show()"
      ],
      "metadata": {
        "colab": {
          "base_uri": "https://localhost:8080/",
          "height": 295
        },
        "id": "n4WU9GeVR6QW",
        "outputId": "9b94a3ea-1b40-49da-ad3c-c04b5f93f77c"
      },
      "execution_count": null,
      "outputs": [
        {
          "output_type": "display_data",
          "data": {
            "text/plain": [
              "<Figure size 432x288 with 1 Axes>"
            ],
            "image/png": "[encoded data removed]"
          },
          "metadata": {
            "needs_background": "light"
          }
        }
      ]
    },
    {
      "cell_type": "markdown",
      "source": [
        "Do you think there's overfitting?\n",
        "\n",
        "If you think there's overfitting at epoch N, we could go back, re-initialize the model and just run it for  N epochs - that would an example of **early stopping**.\n",
        "\n",
        "Let's look at the accuracy curves as well.\n",
        "\n"
      ],
      "metadata": {
        "id": "nqh87CoqVuNH"
      }
    },
    {
      "cell_type": "code",
      "source": [
        "plt.clf()\n",
        "acc = history_dict[\"accuracy\"]\n",
        "val_acc = history_dict[\"val_accuracy\"]\n",
        "plt.plot(epochs, acc, \"bo\", label=\"Training acc\")\n",
        "plt.plot(epochs, val_acc, \"b\", label=\"Validation acc\")\n",
        "plt.title(\"Training and validation accuracy\")\n",
        "plt.xlabel(\"Epochs\")\n",
        "plt.ylabel(\"Accuracy\")\n",
        "plt.legend()\n",
        "plt.show()"
      ],
      "metadata": {
        "colab": {
          "base_uri": "https://localhost:8080/",
          "height": 295
        },
        "id": "z-tzis2kSlw1",
        "outputId": "2631f979-f95d-4ce9-944f-338df0f385fc"
      },
      "execution_count": null,
      "outputs": [
        {
          "output_type": "display_data",
          "data": {
            "text/plain": [
              "<Figure size 432x288 with 1 Axes>"
            ],
            "image/png": "[encoded data removed]"
          },
          "metadata": {
            "needs_background": "light"
          }
        }
      ]
    },
    {
      "cell_type": "markdown",
      "source": [
        "## Evaluate the model\n",
        "\n",
        "Let's see **how well the model does on the test set**. \n",
        "\n",
        "`model.evaluate` is a very handy function to calculate the performance of your model on any dataset."
      ],
      "metadata": {
        "id": "uWI1kI27RZun"
      }
    },
    {
      "cell_type": "code",
      "source": [
        "model.evaluate(test_X, test_y)"
      ],
      "metadata": {
        "colab": {
          "base_uri": "https://localhost:8080/"
        },
        "id": "PDyP_S4LRlb9",
        "outputId": "5374f620-b557-44ec-9e12-ec5d5c07d7c0"
      },
      "execution_count": null,
      "outputs": [
        {
          "output_type": "stream",
          "name": "stdout",
          "text": [
            "2/2 [==============================] - 0s 6ms/step - loss: 0.3643 - accuracy: 0.8033\n"
          ]
        },
        {
          "output_type": "execute_result",
          "data": {
            "text/plain": [
              "[0.36425456404685974, 0.8032786846160889]"
            ]
          },
          "metadata": {},
          "execution_count": 29
        }
      ]
    },
    {
      "cell_type": "markdown",
      "metadata": {
        "id": "F4GzDJ1I8pgw"
      },
      "source": [
        "## Predicting new data (i.e., *inference*) with the model\n",
        "\n",
        "We will see in later colabs how to save a Keras model and use it for prediction later.  But we want to point out that the simple approach we followed in this colab has a key shortcoming.\n",
        "\n",
        "We did the pre-processing - the one-hot encoding and normalization - *outside* the model. This means that we have to remember what pre-processing we did and carry that information (e.g., the mean and variance of each variable) along with the model to correctly use the model in the future.\n",
        "\n",
        "A very elegant way to avoid this issue is to use [Keras preprocessing layers](https://keras.io/guides/preprocessing_layers/). In the interest of time, we aren't covering it in this colab but we encourage you to check out this [colab](https://colab.research.google.com/github/keras-team/keras-io/blob/master/examples/structured_data/ipynb/structured_data_classification_from_scratch.ipynb) which shows how to solve our exact heart-disease prediction problem above using preprocessing layers.\n"
      ]
    }
  ],
  "metadata": {
    "colab": {
      "collapsed_sections": [],
      "name": "HODL-Lecture 2-Heart-Disease-Prediction",
      "provenance": [],
      "include_colab_link": true
    },
    "kernelspec": {
      "display_name": "Python 3",
      "language": "python",
      "name": "python3"
    },
    "language_info": {
      "codemirror_mode": {
        "name": "ipython",
        "version": 3
      },
      "file_extension": ".py",
      "mimetype": "text/x-python",
      "name": "python",
      "nbconvert_exporter": "python",
      "pygments_lexer": "ipython3",
      "version": "3.7.0"
    },
    "accelerator": "GPU"
  },
  "nbformat": 4,
  "nbformat_minor": 0
}